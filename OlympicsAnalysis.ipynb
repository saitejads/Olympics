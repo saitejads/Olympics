{
 "cells": [
  {
   "cell_type": "markdown",
   "metadata": {},
   "source": [
    "# OLYMPICS ANALYSIS\n",
    " <font color ='red'>__SAITEJA NAKKA__<font>"
   ]
  },
  {
   "cell_type": "markdown",
   "metadata": {},
   "source": [
    "__OLYMPICS__: The modern Olympic Games or Olympics are leading international sporting events featuring summer and winter sports competitions in which thousands of athletes from around the world participate in a variety of competitions. The Olympic Games are considered the world's foremost sports competition with more than 200 nations participating.The Olympic Games are held every four years, with the Summer and Winter Games alternating by occurring every four years but two years apart.\n",
    "__Source: Wikipedia__\n",
    "\n",
    "The dataset has each and every olympic event. \n",
    "\n",
    "I'm going to do SOME LITTLE analysis on this data completely using only pandas.\n",
    "\n",
    "You will be seeing lot of usage of groupby method.\n",
    "\n",
    "__NOTE:__ Ignore __Spelling__ and __grammatical__ mistakes."
   ]
  },
  {
   "cell_type": "code",
   "execution_count": 301,
   "metadata": {},
   "outputs": [],
   "source": [
    "import pandas as pd\n",
    "import numpy as np\n",
    "import seaborn as sns\n",
    "%matplotlib inline\n",
    "import pylab as plt\n",
    "sns.set_style('darkgrid')\n",
    "sns.set(rc={'figure.figsize':(16,12)})"
   ]
  },
  {
   "cell_type": "code",
   "execution_count": 2,
   "metadata": {},
   "outputs": [
    {
     "data": {
      "text/plain": [
       "271116"
      ]
     },
     "execution_count": 2,
     "metadata": {},
     "output_type": "execute_result"
    }
   ],
   "source": [
    "df = pd.read_csv(r\"F:\\athlete_events.csv\\athlete_events.csv\")\n",
    "len(df)"
   ]
  },
  {
   "cell_type": "code",
   "execution_count": 3,
   "metadata": {},
   "outputs": [
    {
     "data": {
      "text/html": [
       "<div>\n",
       "<style scoped>\n",
       "    .dataframe tbody tr th:only-of-type {\n",
       "        vertical-align: middle;\n",
       "    }\n",
       "\n",
       "    .dataframe tbody tr th {\n",
       "        vertical-align: top;\n",
       "    }\n",
       "\n",
       "    .dataframe thead th {\n",
       "        text-align: right;\n",
       "    }\n",
       "</style>\n",
       "<table border=\"1\" class=\"dataframe\">\n",
       "  <thead>\n",
       "    <tr style=\"text-align: right;\">\n",
       "      <th></th>\n",
       "      <th>ID</th>\n",
       "      <th>Name</th>\n",
       "      <th>Sex</th>\n",
       "      <th>Age</th>\n",
       "      <th>Height</th>\n",
       "      <th>Weight</th>\n",
       "      <th>Team</th>\n",
       "      <th>NOC</th>\n",
       "      <th>Games</th>\n",
       "      <th>Year</th>\n",
       "      <th>Season</th>\n",
       "      <th>City</th>\n",
       "      <th>Sport</th>\n",
       "      <th>Event</th>\n",
       "      <th>Medal</th>\n",
       "    </tr>\n",
       "  </thead>\n",
       "  <tbody>\n",
       "    <tr>\n",
       "      <th>0</th>\n",
       "      <td>1</td>\n",
       "      <td>A Dijiang</td>\n",
       "      <td>M</td>\n",
       "      <td>24.0</td>\n",
       "      <td>180.0</td>\n",
       "      <td>80.0</td>\n",
       "      <td>China</td>\n",
       "      <td>CHN</td>\n",
       "      <td>1992 Summer</td>\n",
       "      <td>1992</td>\n",
       "      <td>Summer</td>\n",
       "      <td>Barcelona</td>\n",
       "      <td>Basketball</td>\n",
       "      <td>Basketball Men's Basketball</td>\n",
       "      <td>NaN</td>\n",
       "    </tr>\n",
       "    <tr>\n",
       "      <th>1</th>\n",
       "      <td>2</td>\n",
       "      <td>A Lamusi</td>\n",
       "      <td>M</td>\n",
       "      <td>23.0</td>\n",
       "      <td>170.0</td>\n",
       "      <td>60.0</td>\n",
       "      <td>China</td>\n",
       "      <td>CHN</td>\n",
       "      <td>2012 Summer</td>\n",
       "      <td>2012</td>\n",
       "      <td>Summer</td>\n",
       "      <td>London</td>\n",
       "      <td>Judo</td>\n",
       "      <td>Judo Men's Extra-Lightweight</td>\n",
       "      <td>NaN</td>\n",
       "    </tr>\n",
       "    <tr>\n",
       "      <th>2</th>\n",
       "      <td>3</td>\n",
       "      <td>Gunnar Nielsen Aaby</td>\n",
       "      <td>M</td>\n",
       "      <td>24.0</td>\n",
       "      <td>NaN</td>\n",
       "      <td>NaN</td>\n",
       "      <td>Denmark</td>\n",
       "      <td>DEN</td>\n",
       "      <td>1920 Summer</td>\n",
       "      <td>1920</td>\n",
       "      <td>Summer</td>\n",
       "      <td>Antwerpen</td>\n",
       "      <td>Football</td>\n",
       "      <td>Football Men's Football</td>\n",
       "      <td>NaN</td>\n",
       "    </tr>\n",
       "    <tr>\n",
       "      <th>3</th>\n",
       "      <td>4</td>\n",
       "      <td>Edgar Lindenau Aabye</td>\n",
       "      <td>M</td>\n",
       "      <td>34.0</td>\n",
       "      <td>NaN</td>\n",
       "      <td>NaN</td>\n",
       "      <td>Denmark/Sweden</td>\n",
       "      <td>DEN</td>\n",
       "      <td>1900 Summer</td>\n",
       "      <td>1900</td>\n",
       "      <td>Summer</td>\n",
       "      <td>Paris</td>\n",
       "      <td>Tug-Of-War</td>\n",
       "      <td>Tug-Of-War Men's Tug-Of-War</td>\n",
       "      <td>Gold</td>\n",
       "    </tr>\n",
       "    <tr>\n",
       "      <th>4</th>\n",
       "      <td>5</td>\n",
       "      <td>Christine Jacoba Aaftink</td>\n",
       "      <td>F</td>\n",
       "      <td>21.0</td>\n",
       "      <td>185.0</td>\n",
       "      <td>82.0</td>\n",
       "      <td>Netherlands</td>\n",
       "      <td>NED</td>\n",
       "      <td>1988 Winter</td>\n",
       "      <td>1988</td>\n",
       "      <td>Winter</td>\n",
       "      <td>Calgary</td>\n",
       "      <td>Speed Skating</td>\n",
       "      <td>Speed Skating Women's 500 metres</td>\n",
       "      <td>NaN</td>\n",
       "    </tr>\n",
       "  </tbody>\n",
       "</table>\n",
       "</div>"
      ],
      "text/plain": [
       "   ID                      Name Sex   Age  Height  Weight            Team  \\\n",
       "0   1                 A Dijiang   M  24.0   180.0    80.0           China   \n",
       "1   2                  A Lamusi   M  23.0   170.0    60.0           China   \n",
       "2   3       Gunnar Nielsen Aaby   M  24.0     NaN     NaN         Denmark   \n",
       "3   4      Edgar Lindenau Aabye   M  34.0     NaN     NaN  Denmark/Sweden   \n",
       "4   5  Christine Jacoba Aaftink   F  21.0   185.0    82.0     Netherlands   \n",
       "\n",
       "   NOC        Games  Year  Season       City          Sport  \\\n",
       "0  CHN  1992 Summer  1992  Summer  Barcelona     Basketball   \n",
       "1  CHN  2012 Summer  2012  Summer     London           Judo   \n",
       "2  DEN  1920 Summer  1920  Summer  Antwerpen       Football   \n",
       "3  DEN  1900 Summer  1900  Summer      Paris     Tug-Of-War   \n",
       "4  NED  1988 Winter  1988  Winter    Calgary  Speed Skating   \n",
       "\n",
       "                              Event Medal  \n",
       "0       Basketball Men's Basketball   NaN  \n",
       "1      Judo Men's Extra-Lightweight   NaN  \n",
       "2           Football Men's Football   NaN  \n",
       "3       Tug-Of-War Men's Tug-Of-War  Gold  \n",
       "4  Speed Skating Women's 500 metres   NaN  "
      ]
     },
     "execution_count": 3,
     "metadata": {},
     "output_type": "execute_result"
    }
   ],
   "source": [
    "df.head()"
   ]
  },
  {
   "cell_type": "code",
   "execution_count": 4,
   "metadata": {},
   "outputs": [
    {
     "name": "stdout",
     "output_type": "stream",
     "text": [
      "<class 'pandas.core.frame.DataFrame'>\n",
      "RangeIndex: 271116 entries, 0 to 271115\n",
      "Data columns (total 15 columns):\n",
      "ID        271116 non-null int64\n",
      "Name      271116 non-null object\n",
      "Sex       271116 non-null object\n",
      "Age       261642 non-null float64\n",
      "Height    210945 non-null float64\n",
      "Weight    208241 non-null float64\n",
      "Team      271116 non-null object\n",
      "NOC       271116 non-null object\n",
      "Games     271116 non-null object\n",
      "Year      271116 non-null int64\n",
      "Season    271116 non-null object\n",
      "City      271116 non-null object\n",
      "Sport     271116 non-null object\n",
      "Event     271116 non-null object\n",
      "Medal     39783 non-null object\n",
      "dtypes: float64(3), int64(2), object(10)\n",
      "memory usage: 31.0+ MB\n"
     ]
    }
   ],
   "source": [
    "df.info()"
   ]
  },
  {
   "cell_type": "markdown",
   "metadata": {},
   "source": [
    "The dataset in pretty structured and clear.\n",
    "- ID is the Unique indentifier of every participant.\n",
    "- NOC is the National Olympic committe of their country.\n",
    "- Team is the name of team that participated, generally it is name of country, but it might have old country names/ countries before partition etc and most importantly it ha team names of individual participants also\n",
    "\n",
    "Lets see the Count of Team names and NOC."
   ]
  },
  {
   "cell_type": "code",
   "execution_count": 6,
   "metadata": {},
   "outputs": [
    {
     "name": "stdout",
     "output_type": "stream",
     "text": [
      "Number of Nationalities --> 230\n",
      "Number of Teams --> 1184\n"
     ]
    }
   ],
   "source": [
    "print(\"Number of Nationalities -->\",len(df.NOC.unique()))\n",
    "print(\"Number of Teams -->\",len(df.Team.unique()))"
   ]
  },
  {
   "cell_type": "markdown",
   "metadata": {},
   "source": [
    "I will show a glimpse of few team names."
   ]
  },
  {
   "cell_type": "code",
   "execution_count": 127,
   "metadata": {},
   "outputs": [
    {
     "data": {
      "text/plain": [
       "Hb-20           1\n",
       "Tournade-40     1\n",
       "Tornade-16      1\n",
       "Crocodile-13    1\n",
       "Augsburg        1\n",
       "Name: Team, dtype: int64"
      ]
     },
     "execution_count": 127,
     "metadata": {},
     "output_type": "execute_result"
    }
   ],
   "source": [
    "df.Team.value_counts().tail() #Look at the odd Team names"
   ]
  },
  {
   "cell_type": "markdown",
   "metadata": {},
   "source": [
    "Check for Null values"
   ]
  },
  {
   "cell_type": "code",
   "execution_count": 158,
   "metadata": {},
   "outputs": [
    {
     "data": {
      "text/plain": [
       "ID             0\n",
       "Name           0\n",
       "Sex            0\n",
       "Age         9474\n",
       "Height     60171\n",
       "Weight     62875\n",
       "Team           0\n",
       "NOC            0\n",
       "Games          0\n",
       "Year           0\n",
       "Season         0\n",
       "City           0\n",
       "Sport          0\n",
       "Event          0\n",
       "Medal     231333\n",
       "dtype: int64"
      ]
     },
     "execution_count": 158,
     "metadata": {},
     "output_type": "execute_result"
    }
   ],
   "source": [
    "df.isnull().sum()"
   ]
  },
  {
   "cell_type": "markdown",
   "metadata": {},
   "source": [
    "Some felt shy giving their Age, Height and Weight. Lol! Kidding. It represents data not recorded.\n",
    "\n",
    "The Medal column has nan where the player in event has no awarded no Medal in that Event. Obviously the number will be high."
   ]
  },
  {
   "cell_type": "markdown",
   "metadata": {},
   "source": [
    "#### Lets look at the Medals distribution."
   ]
  },
  {
   "cell_type": "code",
   "execution_count": 268,
   "metadata": {},
   "outputs": [
    {
     "data": {
      "text/plain": [
       "Gold      13372\n",
       "Bronze    13295\n",
       "Silver    13116\n",
       "Name: Medal, dtype: int64"
      ]
     },
     "execution_count": 268,
     "metadata": {},
     "output_type": "execute_result"
    }
   ],
   "source": [
    "df.Medal.value_counts() "
   ]
  },
  {
   "cell_type": "markdown",
   "metadata": {},
   "source": [
    "Quite obvious that Gold,Silver and Bronze are almost equal\n",
    "\n",
    "## Total number of Unique players participated in Olympics."
   ]
  },
  {
   "cell_type": "code",
   "execution_count": 41,
   "metadata": {},
   "outputs": [
    {
     "name": "stdout",
     "output_type": "stream",
     "text": [
      "total number of Unique players participated in Olympics are --> 135571\n"
     ]
    }
   ],
   "source": [
    "print(\"total number of Unique players participated in Olympics are -->\",len(df.ID.unique()))"
   ]
  },
  {
   "cell_type": "markdown",
   "metadata": {},
   "source": [
    "You might be wondering that len(df) is 271116 which is more than number of players, it's because a single player might participate in different events and also in multiple olympics."
   ]
  },
  {
   "cell_type": "markdown",
   "metadata": {},
   "source": [
    "# NOTE:\n",
    "Before any further analysis, I want you to notice the columns 'Games','Year' and 'Season'.\n",
    "- There are 'Winter' and 'Summer' olympics.\n",
    "- Summer Olympics started in 1896 while the Winter olympics started in 1924.\n",
    "- From 1924 to 1994 both were held in same year, but from 1994 the Winter olympics are held two years prior.\n",
    "- Winter olympics are nothing special, they have the games which are played/competed on ICE,SNOW like ice skating, ice hockey etc.\n",
    "\n",
    "The code below explains !"
   ]
  },
  {
   "cell_type": "code",
   "execution_count": 393,
   "metadata": {},
   "outputs": [
    {
     "name": "stdout",
     "output_type": "stream",
     "text": [
      "SUMMER OLYMPICS WERE CONDUCTED IN  [1896 1900 1904 1906 1908 1912 1920 1924 1928 1932 1936 1948 1952 1956\n",
      " 1960 1964 1968 1972 1976 1980 1984 1988 1992 1996 2000 2004 2008 2012\n",
      " 2016]\n"
     ]
    }
   ],
   "source": [
    "print(\"SUMMER OLYMPICS WERE CONDUCTED IN \",np.array(sorted(df[df['Season'] == 'Summer']['Year'].unique())))"
   ]
  },
  {
   "cell_type": "code",
   "execution_count": 394,
   "metadata": {},
   "outputs": [
    {
     "name": "stdout",
     "output_type": "stream",
     "text": [
      "WINTER OLYMPICS WERE CONDUCTED IN  [1924 1928 1932 1936 1948 1952 1956 1960 1964 1968 1972 1976 1980 1984\n",
      " 1988 1992 1994 1998 2002 2006 2010 2014]\n"
     ]
    }
   ],
   "source": [
    "print(\"WINTER OLYMPICS WERE CONDUCTED IN \",np.array(sorted(df[df['Season'] == 'Winter']['Year'].unique())))"
   ]
  },
  {
   "cell_type": "markdown",
   "metadata": {},
   "source": [
    "## Number of Players participated in each olympics."
   ]
  },
  {
   "cell_type": "markdown",
   "metadata": {},
   "source": [
    "- Groupby year and ID, group using count()\n",
    "- Taking only 'Year','ID' columns as groupby groups all the numerical columns which we dont need them here.\n",
    "- as_index is false, which returns the grouping column as column, if true returns as index."
   ]
  },
  {
   "cell_type": "code",
   "execution_count": 79,
   "metadata": {},
   "outputs": [],
   "source": [
    "groupedYearID = df.groupby(['Year','ID'],as_index=False).count()[['Year','ID']]"
   ]
  },
  {
   "cell_type": "code",
   "execution_count": 80,
   "metadata": {},
   "outputs": [],
   "source": [
    "groupedYearID = groupedYearID.groupby('Year',as_index=False).count()"
   ]
  },
  {
   "cell_type": "code",
   "execution_count": 110,
   "metadata": {},
   "outputs": [
    {
     "data": {
      "text/html": [
       "<div>\n",
       "<style scoped>\n",
       "    .dataframe tbody tr th:only-of-type {\n",
       "        vertical-align: middle;\n",
       "    }\n",
       "\n",
       "    .dataframe tbody tr th {\n",
       "        vertical-align: top;\n",
       "    }\n",
       "\n",
       "    .dataframe thead th {\n",
       "        text-align: right;\n",
       "    }\n",
       "</style>\n",
       "<table border=\"1\" class=\"dataframe\">\n",
       "  <thead>\n",
       "    <tr style=\"text-align: right;\">\n",
       "      <th></th>\n",
       "      <th>Year</th>\n",
       "      <th>ID</th>\n",
       "    </tr>\n",
       "  </thead>\n",
       "  <tbody>\n",
       "    <tr>\n",
       "      <th>0</th>\n",
       "      <td>1896</td>\n",
       "      <td>176</td>\n",
       "    </tr>\n",
       "    <tr>\n",
       "      <th>1</th>\n",
       "      <td>1900</td>\n",
       "      <td>1224</td>\n",
       "    </tr>\n",
       "    <tr>\n",
       "      <th>2</th>\n",
       "      <td>1904</td>\n",
       "      <td>650</td>\n",
       "    </tr>\n",
       "    <tr>\n",
       "      <th>3</th>\n",
       "      <td>1906</td>\n",
       "      <td>841</td>\n",
       "    </tr>\n",
       "    <tr>\n",
       "      <th>4</th>\n",
       "      <td>1908</td>\n",
       "      <td>2024</td>\n",
       "    </tr>\n",
       "  </tbody>\n",
       "</table>\n",
       "</div>"
      ],
      "text/plain": [
       "   Year    ID\n",
       "0  1896   176\n",
       "1  1900  1224\n",
       "2  1904   650\n",
       "3  1906   841\n",
       "4  1908  2024"
      ]
     },
     "execution_count": 110,
     "metadata": {},
     "output_type": "execute_result"
    }
   ],
   "source": [
    "groupedYearID.head()"
   ]
  },
  {
   "cell_type": "markdown",
   "metadata": {},
   "source": [
    "## Club the winter olympics after 1992 to its next summer olympics.\n",
    "- As explained above, you need to club them to because an olympic event is considered as combined summer and winter olympics.\n",
    "- The following has two for loops because you cannot update the dataframe element without using iloc.\n",
    "- But, to use iloc we need index, to get the index we used the loop.\n",
    "- The second loop uses those index and changes(Adds) the year column by 2.\n",
    "- So, 1994 becomes 1996, 1998 becomes 2000 and so on."
   ]
  },
  {
   "cell_type": "code",
   "execution_count": 102,
   "metadata": {},
   "outputs": [],
   "source": [
    "l = []\n",
    "for i in [1994,1998,2002,2006,2010,2014]: #The year of winter olympics\n",
    "    l.append(groupedYearID[groupedYearID.Year == i].index[0])"
   ]
  },
  {
   "cell_type": "code",
   "execution_count": 105,
   "metadata": {},
   "outputs": [],
   "source": [
    "for i in l:\n",
    "    groupedYearID.loc[i,'Year'] = groupedYearID.loc[i,'Year'] +2"
   ]
  },
  {
   "cell_type": "code",
   "execution_count": 108,
   "metadata": {},
   "outputs": [],
   "source": [
    "groupedYearID = groupedYearID.groupby('Year',as_index=False).sum()"
   ]
  },
  {
   "cell_type": "code",
   "execution_count": 118,
   "metadata": {},
   "outputs": [],
   "source": [
    "import matplotlib.pyplot as pyplot"
   ]
  },
  {
   "cell_type": "code",
   "execution_count": 182,
   "metadata": {},
   "outputs": [
    {
     "data": {
      "text/plain": [
       "Text(0,0.5,'PARTICIPANTS')"
      ]
     },
     "execution_count": 182,
     "metadata": {},
     "output_type": "execute_result"
    },
    {
     "data": {
      "image/png": "[encoded data removed]",
      "text/plain": [
       "<matplotlib.figure.Figure at 0x1f92dccad30>"
      ]
     },
     "metadata": {},
     "output_type": "display_data"
    }
   ],
   "source": [
    "sns.set(rc={'figure.figsize':(18,12)})\n",
    "plot1 = sns.barplot('Year','ID',data=groupedYearID).set_xticklabels(groupedYearID.Year,rotation=82)\n",
    "#plot1.set(xlabel='YEAR',ylabel='Number of people')\n",
    "pyplot.xlabel(\"YEAR\")\n",
    "pyplot.ylabel(\"PARTICIPANTS\")"
   ]
  },
  {
   "cell_type": "markdown",
   "metadata": {},
   "source": [
    "###  Number of participants in each olympics graph. (Shown Above)"
   ]
  },
  {
   "cell_type": "markdown",
   "metadata": {},
   "source": [
    "#### Now, Lets do some Gender analysis\n",
    "- To get the count, we need to convert the categorical Sex column to Numerical.\n",
    "- There are many ways, I chose to do using get_dummies method.\n",
    "- Groupby according to ID and Sex\n",
    "- It might look complicated, so I advise you to run the same code in your kernel and print it to understand."
   ]
  },
  {
   "cell_type": "markdown",
   "metadata": {},
   "source": [
    "Create the dummies and add it to the dataframe. And then group it using Year and ID using Sum."
   ]
  },
  {
   "cell_type": "code",
   "execution_count": 146,
   "metadata": {},
   "outputs": [],
   "source": [
    "groupedGender = pd.concat([df,pd.get_dummies(df.Sex)],axis=1).groupby(['Year','ID'],as_index = False).sum()"
   ]
  },
  {
   "cell_type": "markdown",
   "metadata": {},
   "source": [
    "We have grouped using sum, it will sum the M/F columns for each ID which is not correct. Look at head to understand."
   ]
  },
  {
   "cell_type": "code",
   "execution_count": 148,
   "metadata": {},
   "outputs": [
    {
     "data": {
      "text/html": [
       "<div>\n",
       "<style scoped>\n",
       "    .dataframe tbody tr th:only-of-type {\n",
       "        vertical-align: middle;\n",
       "    }\n",
       "\n",
       "    .dataframe tbody tr th {\n",
       "        vertical-align: top;\n",
       "    }\n",
       "\n",
       "    .dataframe thead th {\n",
       "        text-align: right;\n",
       "    }\n",
       "</style>\n",
       "<table border=\"1\" class=\"dataframe\">\n",
       "  <thead>\n",
       "    <tr style=\"text-align: right;\">\n",
       "      <th></th>\n",
       "      <th>Year</th>\n",
       "      <th>ID</th>\n",
       "      <th>F</th>\n",
       "      <th>M</th>\n",
       "    </tr>\n",
       "  </thead>\n",
       "  <tbody>\n",
       "    <tr>\n",
       "      <th>0</th>\n",
       "      <td>1896</td>\n",
       "      <td>1724</td>\n",
       "      <td>0</td>\n",
       "      <td>2</td>\n",
       "    </tr>\n",
       "    <tr>\n",
       "      <th>1</th>\n",
       "      <td>1896</td>\n",
       "      <td>1725</td>\n",
       "      <td>0</td>\n",
       "      <td>2</td>\n",
       "    </tr>\n",
       "    <tr>\n",
       "      <th>2</th>\n",
       "      <td>1896</td>\n",
       "      <td>4113</td>\n",
       "      <td>0</td>\n",
       "      <td>1</td>\n",
       "    </tr>\n",
       "    <tr>\n",
       "      <th>3</th>\n",
       "      <td>1896</td>\n",
       "      <td>4116</td>\n",
       "      <td>0</td>\n",
       "      <td>1</td>\n",
       "    </tr>\n",
       "    <tr>\n",
       "      <th>4</th>\n",
       "      <td>1896</td>\n",
       "      <td>4189</td>\n",
       "      <td>0</td>\n",
       "      <td>1</td>\n",
       "    </tr>\n",
       "  </tbody>\n",
       "</table>\n",
       "</div>"
      ],
      "text/plain": [
       "   Year    ID  F  M\n",
       "0  1896  1724  0  2\n",
       "1  1896  1725  0  2\n",
       "2  1896  4113  0  1\n",
       "3  1896  4116  0  1\n",
       "4  1896  4189  0  1"
      ]
     },
     "execution_count": 148,
     "metadata": {},
     "output_type": "execute_result"
    }
   ],
   "source": [
    "groupedGender[['Year','ID','F','M']].head()"
   ]
  },
  {
   "cell_type": "code",
   "execution_count": 149,
   "metadata": {},
   "outputs": [],
   "source": [
    "groupedGender.F = groupedGender.F.apply(lambda x: 0 if x==0 else 1)\n",
    "groupedGender.M = groupedGender.M.apply(lambda x: 0 if x==0 else 1)"
   ]
  },
  {
   "cell_type": "markdown",
   "metadata": {},
   "source": [
    "Now, look at the head of dataframe."
   ]
  },
  {
   "cell_type": "code",
   "execution_count": 152,
   "metadata": {},
   "outputs": [
    {
     "data": {
      "text/html": [
       "<div>\n",
       "<style scoped>\n",
       "    .dataframe tbody tr th:only-of-type {\n",
       "        vertical-align: middle;\n",
       "    }\n",
       "\n",
       "    .dataframe tbody tr th {\n",
       "        vertical-align: top;\n",
       "    }\n",
       "\n",
       "    .dataframe thead th {\n",
       "        text-align: right;\n",
       "    }\n",
       "</style>\n",
       "<table border=\"1\" class=\"dataframe\">\n",
       "  <thead>\n",
       "    <tr style=\"text-align: right;\">\n",
       "      <th></th>\n",
       "      <th>Year</th>\n",
       "      <th>ID</th>\n",
       "      <th>F</th>\n",
       "      <th>M</th>\n",
       "    </tr>\n",
       "  </thead>\n",
       "  <tbody>\n",
       "    <tr>\n",
       "      <th>0</th>\n",
       "      <td>1896</td>\n",
       "      <td>1724</td>\n",
       "      <td>0</td>\n",
       "      <td>1</td>\n",
       "    </tr>\n",
       "    <tr>\n",
       "      <th>1</th>\n",
       "      <td>1896</td>\n",
       "      <td>1725</td>\n",
       "      <td>0</td>\n",
       "      <td>1</td>\n",
       "    </tr>\n",
       "    <tr>\n",
       "      <th>2</th>\n",
       "      <td>1896</td>\n",
       "      <td>4113</td>\n",
       "      <td>0</td>\n",
       "      <td>1</td>\n",
       "    </tr>\n",
       "    <tr>\n",
       "      <th>3</th>\n",
       "      <td>1896</td>\n",
       "      <td>4116</td>\n",
       "      <td>0</td>\n",
       "      <td>1</td>\n",
       "    </tr>\n",
       "    <tr>\n",
       "      <th>4</th>\n",
       "      <td>1896</td>\n",
       "      <td>4189</td>\n",
       "      <td>0</td>\n",
       "      <td>1</td>\n",
       "    </tr>\n",
       "  </tbody>\n",
       "</table>\n",
       "</div>"
      ],
      "text/plain": [
       "   Year    ID  F  M\n",
       "0  1896  1724  0  1\n",
       "1  1896  1725  0  1\n",
       "2  1896  4113  0  1\n",
       "3  1896  4116  0  1\n",
       "4  1896  4189  0  1"
      ]
     },
     "execution_count": 152,
     "metadata": {},
     "output_type": "execute_result"
    }
   ],
   "source": [
    "groupedGender[['Year','ID','F','M']].head()"
   ]
  },
  {
   "cell_type": "code",
   "execution_count": 153,
   "metadata": {},
   "outputs": [],
   "source": [
    "groupedGender = groupedGender.groupby('Year',as_index=False).sum()"
   ]
  },
  {
   "cell_type": "code",
   "execution_count": 154,
   "metadata": {},
   "outputs": [],
   "source": [
    "# same code as mentioned above some where, the years of winter olympics after 1994 to be clubbed to their next summer olympics.\n",
    "for i in l:\n",
    "    groupedGender.loc[i,'Year'] = groupedGender.loc[i,'Year'] +2"
   ]
  },
  {
   "cell_type": "markdown",
   "metadata": {},
   "source": [
    "To sum the newly edited Year columns [1994,1998,2002,2006,2010,2014]"
   ]
  },
  {
   "cell_type": "code",
   "execution_count": 156,
   "metadata": {},
   "outputs": [],
   "source": [
    "groupedGender = groupedGender.groupby('Year',as_index=False).sum()"
   ]
  },
  {
   "cell_type": "code",
   "execution_count": 183,
   "metadata": {
    "scrolled": false
   },
   "outputs": [
    {
     "data": {
      "text/plain": [
       "Text(0,0.5,'PARTICIPANTS')"
      ]
     },
     "execution_count": 183,
     "metadata": {},
     "output_type": "execute_result"
    },
    {
     "data": {
      "image/png": "[encoded data removed]",
      "text/plain": [
       "<matplotlib.figure.Figure at 0x1f92de98fd0>"
      ]
     },
     "metadata": {},
     "output_type": "display_data"
    }
   ],
   "source": [
    "plt.plot(groupedGender.Year,groupedGender.M)\n",
    "plt.plot(groupedGender.Year,groupedGender.F,color='red')\n",
    "\n",
    "plt.plot(groupedGender.Year,groupedGender.M,'bo')\n",
    "plt.plot(groupedGender.Year,groupedGender.F,'bo',color ='red')\n",
    "\n",
    "plt.legend(['Male','Female'])\n",
    "plt.xlabel(\"YEAR\")\n",
    "plt.ylabel(\"PARTICIPANTS\")"
   ]
  },
  {
   "cell_type": "markdown",
   "metadata": {},
   "source": [
    "# One good thing to notice is that the female participants are greatly increasing every year.  <font color = 'red'> WOMEN EMPOWERMENT "
   ]
  },
  {
   "cell_type": "markdown",
   "metadata": {},
   "source": [
    "## Lets create separate columns for gold,silver and bronze for easy analysis.\n",
    "- Using get_dummies method.\n",
    "- Add newcolumn allmedals, which represents if the player in event won any medal or not."
   ]
  },
  {
   "cell_type": "code",
   "execution_count": 160,
   "metadata": {},
   "outputs": [],
   "source": [
    "df = pd.concat([df,pd.get_dummies(df.Medal)],axis=1)"
   ]
  },
  {
   "cell_type": "code",
   "execution_count": 162,
   "metadata": {},
   "outputs": [],
   "source": [
    "df['allmedals'] = df['allmedals'] = df['Bronze'] + df['Gold'] + df['Silver'] \n",
    "#Obviously it would be either 1 or 0. Added this column to make analysis easier"
   ]
  },
  {
   "cell_type": "code",
   "execution_count": 163,
   "metadata": {},
   "outputs": [
    {
     "data": {
      "text/html": [
       "<div>\n",
       "<style scoped>\n",
       "    .dataframe tbody tr th:only-of-type {\n",
       "        vertical-align: middle;\n",
       "    }\n",
       "\n",
       "    .dataframe tbody tr th {\n",
       "        vertical-align: top;\n",
       "    }\n",
       "\n",
       "    .dataframe thead th {\n",
       "        text-align: right;\n",
       "    }\n",
       "</style>\n",
       "<table border=\"1\" class=\"dataframe\">\n",
       "  <thead>\n",
       "    <tr style=\"text-align: right;\">\n",
       "      <th></th>\n",
       "      <th>ID</th>\n",
       "      <th>Name</th>\n",
       "      <th>Sex</th>\n",
       "      <th>Age</th>\n",
       "      <th>Height</th>\n",
       "      <th>Weight</th>\n",
       "      <th>Team</th>\n",
       "      <th>NOC</th>\n",
       "      <th>Games</th>\n",
       "      <th>Year</th>\n",
       "      <th>Season</th>\n",
       "      <th>City</th>\n",
       "      <th>Sport</th>\n",
       "      <th>Event</th>\n",
       "      <th>Medal</th>\n",
       "      <th>Bronze</th>\n",
       "      <th>Gold</th>\n",
       "      <th>Silver</th>\n",
       "      <th>allmedals</th>\n",
       "    </tr>\n",
       "  </thead>\n",
       "  <tbody>\n",
       "    <tr>\n",
       "      <th>0</th>\n",
       "      <td>1</td>\n",
       "      <td>A Dijiang</td>\n",
       "      <td>M</td>\n",
       "      <td>24.0</td>\n",
       "      <td>180.0</td>\n",
       "      <td>80.0</td>\n",
       "      <td>China</td>\n",
       "      <td>CHN</td>\n",
       "      <td>1992 Summer</td>\n",
       "      <td>1992</td>\n",
       "      <td>Summer</td>\n",
       "      <td>Barcelona</td>\n",
       "      <td>Basketball</td>\n",
       "      <td>Basketball Men's Basketball</td>\n",
       "      <td>NaN</td>\n",
       "      <td>0</td>\n",
       "      <td>0</td>\n",
       "      <td>0</td>\n",
       "      <td>0</td>\n",
       "    </tr>\n",
       "    <tr>\n",
       "      <th>1</th>\n",
       "      <td>2</td>\n",
       "      <td>A Lamusi</td>\n",
       "      <td>M</td>\n",
       "      <td>23.0</td>\n",
       "      <td>170.0</td>\n",
       "      <td>60.0</td>\n",
       "      <td>China</td>\n",
       "      <td>CHN</td>\n",
       "      <td>2012 Summer</td>\n",
       "      <td>2012</td>\n",
       "      <td>Summer</td>\n",
       "      <td>London</td>\n",
       "      <td>Judo</td>\n",
       "      <td>Judo Men's Extra-Lightweight</td>\n",
       "      <td>NaN</td>\n",
       "      <td>0</td>\n",
       "      <td>0</td>\n",
       "      <td>0</td>\n",
       "      <td>0</td>\n",
       "    </tr>\n",
       "    <tr>\n",
       "      <th>2</th>\n",
       "      <td>3</td>\n",
       "      <td>Gunnar Nielsen Aaby</td>\n",
       "      <td>M</td>\n",
       "      <td>24.0</td>\n",
       "      <td>NaN</td>\n",
       "      <td>NaN</td>\n",
       "      <td>Denmark</td>\n",
       "      <td>DEN</td>\n",
       "      <td>1920 Summer</td>\n",
       "      <td>1920</td>\n",
       "      <td>Summer</td>\n",
       "      <td>Antwerpen</td>\n",
       "      <td>Football</td>\n",
       "      <td>Football Men's Football</td>\n",
       "      <td>NaN</td>\n",
       "      <td>0</td>\n",
       "      <td>0</td>\n",
       "      <td>0</td>\n",
       "      <td>0</td>\n",
       "    </tr>\n",
       "    <tr>\n",
       "      <th>3</th>\n",
       "      <td>4</td>\n",
       "      <td>Edgar Lindenau Aabye</td>\n",
       "      <td>M</td>\n",
       "      <td>34.0</td>\n",
       "      <td>NaN</td>\n",
       "      <td>NaN</td>\n",
       "      <td>Denmark/Sweden</td>\n",
       "      <td>DEN</td>\n",
       "      <td>1900 Summer</td>\n",
       "      <td>1900</td>\n",
       "      <td>Summer</td>\n",
       "      <td>Paris</td>\n",
       "      <td>Tug-Of-War</td>\n",
       "      <td>Tug-Of-War Men's Tug-Of-War</td>\n",
       "      <td>Gold</td>\n",
       "      <td>0</td>\n",
       "      <td>1</td>\n",
       "      <td>0</td>\n",
       "      <td>1</td>\n",
       "    </tr>\n",
       "    <tr>\n",
       "      <th>4</th>\n",
       "      <td>5</td>\n",
       "      <td>Christine Jacoba Aaftink</td>\n",
       "      <td>F</td>\n",
       "      <td>21.0</td>\n",
       "      <td>185.0</td>\n",
       "      <td>82.0</td>\n",
       "      <td>Netherlands</td>\n",
       "      <td>NED</td>\n",
       "      <td>1988 Winter</td>\n",
       "      <td>1988</td>\n",
       "      <td>Winter</td>\n",
       "      <td>Calgary</td>\n",
       "      <td>Speed Skating</td>\n",
       "      <td>Speed Skating Women's 500 metres</td>\n",
       "      <td>NaN</td>\n",
       "      <td>0</td>\n",
       "      <td>0</td>\n",
       "      <td>0</td>\n",
       "      <td>0</td>\n",
       "    </tr>\n",
       "  </tbody>\n",
       "</table>\n",
       "</div>"
      ],
      "text/plain": [
       "   ID                      Name Sex   Age  Height  Weight            Team  \\\n",
       "0   1                 A Dijiang   M  24.0   180.0    80.0           China   \n",
       "1   2                  A Lamusi   M  23.0   170.0    60.0           China   \n",
       "2   3       Gunnar Nielsen Aaby   M  24.0     NaN     NaN         Denmark   \n",
       "3   4      Edgar Lindenau Aabye   M  34.0     NaN     NaN  Denmark/Sweden   \n",
       "4   5  Christine Jacoba Aaftink   F  21.0   185.0    82.0     Netherlands   \n",
       "\n",
       "   NOC        Games  Year  Season       City          Sport  \\\n",
       "0  CHN  1992 Summer  1992  Summer  Barcelona     Basketball   \n",
       "1  CHN  2012 Summer  2012  Summer     London           Judo   \n",
       "2  DEN  1920 Summer  1920  Summer  Antwerpen       Football   \n",
       "3  DEN  1900 Summer  1900  Summer      Paris     Tug-Of-War   \n",
       "4  NED  1988 Winter  1988  Winter    Calgary  Speed Skating   \n",
       "\n",
       "                              Event Medal  Bronze  Gold  Silver  allmedals  \n",
       "0       Basketball Men's Basketball   NaN       0     0       0          0  \n",
       "1      Judo Men's Extra-Lightweight   NaN       0     0       0          0  \n",
       "2           Football Men's Football   NaN       0     0       0          0  \n",
       "3       Tug-Of-War Men's Tug-Of-War  Gold       0     1       0          1  \n",
       "4  Speed Skating Women's 500 metres   NaN       0     0       0          0  "
      ]
     },
     "execution_count": 163,
     "metadata": {},
     "output_type": "execute_result"
    }
   ],
   "source": [
    "df.head()"
   ]
  },
  {
   "cell_type": "markdown",
   "metadata": {},
   "source": [
    "## Countries with most number of medals won in all Olympics.\n",
    "- Group by countries.\n",
    "- Sort according to number of total medals and take top 50 of them."
   ]
  },
  {
   "cell_type": "code",
   "execution_count": 177,
   "metadata": {},
   "outputs": [],
   "source": [
    "groupcountry = df.groupby(by=['NOC'],as_index= False).sum()"
   ]
  },
  {
   "cell_type": "code",
   "execution_count": 179,
   "metadata": {},
   "outputs": [],
   "source": [
    "top50 = groupcountry.sort_values(by=['allmedals'],ascending = False).head(50)"
   ]
  },
  {
   "cell_type": "code",
   "execution_count": 184,
   "metadata": {},
   "outputs": [
    {
     "data": {
      "image/png": "[encoded data removed]",
      "text/plain": [
       "<matplotlib.figure.Figure at 0x1f92dfee3c8>"
      ]
     },
     "metadata": {},
     "output_type": "display_data"
    }
   ],
   "source": [
    "plot2 = sns.barplot('NOC','allmedals',data=top50).set_xticklabels(top50.NOC,rotation=82)"
   ]
  },
  {
   "cell_type": "markdown",
   "metadata": {},
   "source": [
    "Complete United States dominance. We all know that USA have best atheletes. "
   ]
  },
  {
   "cell_type": "markdown",
   "metadata": {},
   "source": [
    "## Countries who won most medals in each year.\n",
    "- Group by Year and NOC.\n",
    "- Get in index of winter olympics after 1992 and club them to their next summer olympics(as we did before)\n",
    "- Create a dummy dataframe and add the country with most medals that year."
   ]
  },
  {
   "cell_type": "code",
   "execution_count": 200,
   "metadata": {},
   "outputs": [],
   "source": [
    "groupYearNOC = df.groupby(by=['Year','NOC'],as_index=False).sum()"
   ]
  },
  {
   "cell_type": "code",
   "execution_count": 204,
   "metadata": {},
   "outputs": [],
   "source": [
    "l1 = []\n",
    "for i in [1994,1998,2002,2006,2010,2014]: #The year of winter olympics\n",
    "    l1.append(np.array(groupYearNOC[groupYearNOC.Year == i].index))"
   ]
  },
  {
   "cell_type": "code",
   "execution_count": 210,
   "metadata": {},
   "outputs": [],
   "source": [
    "for i in l1:\n",
    "    groupYearNOC.loc[i,'Year'] = groupYearNOC.loc[i,'Year'] +2"
   ]
  },
  {
   "cell_type": "code",
   "execution_count": 213,
   "metadata": {},
   "outputs": [],
   "source": [
    "groupYearNOC = groupYearNOC.groupby(by=['Year','NOC'],as_index=False).sum()"
   ]
  },
  {
   "cell_type": "code",
   "execution_count": 216,
   "metadata": {},
   "outputs": [],
   "source": [
    "yeartop = pd.DataFrame() \n",
    "y = df.Year.unique() #Gets the Year numbers\n",
    "for i in y:\n",
    "    yeartop = pd.concat([yeartop,groupYearNOC[groupYearNOC['Year'] == i].sort_values(by=['allmedals'],ascending= False).head(1)])\n",
    "    "
   ]
  },
  {
   "cell_type": "markdown",
   "metadata": {},
   "source": [
    "- For a particular year, it sorts according to allmedals column in descending order, so the country with most medals that year will be at top. \n",
    "- So, taking head(1) means taking only the top row. \n",
    "- Then add to our new dataframe."
   ]
  },
  {
   "cell_type": "code",
   "execution_count": 219,
   "metadata": {},
   "outputs": [
    {
     "data": {
      "image/png": "[encoded data removed]",
      "text/plain": [
       "<matplotlib.figure.Figure at 0x1f937ff9208>"
      ]
     },
     "metadata": {},
     "output_type": "display_data"
    }
   ],
   "source": [
    "plot3 = sns.barplot('Year','allmedals',hue='NOC',data = yeartop)"
   ]
  },
  {
   "cell_type": "markdown",
   "metadata": {},
   "source": [
    "The years and the country which dominated that olympics.\n",
    "- Note 1: I'm considering the total medals won, but in general table top will be the one with most golds.\n",
    "- Note 2: The group event medals are considered as only one medal, but I'm not doing that here,im taking total number of medals won.\n",
    "- Example: If a team won a medal in football, which has 11 players (5+ sub players), wher each will be awarded a medal, but as per olympics it is considered as only one medal. In our case here, I'm considering the total medals."
   ]
  },
  {
   "cell_type": "markdown",
   "metadata": {},
   "source": [
    "## The Sport and the Country that dominated that sport.\n",
    "- Groupby sport and NOC.\n",
    "- Create a dummy dataframe and add the country with most medals in that sport."
   ]
  },
  {
   "cell_type": "code",
   "execution_count": 227,
   "metadata": {},
   "outputs": [],
   "source": [
    "groupsport = df.groupby(by=['Sport','NOC'],as_index=False).sum()"
   ]
  },
  {
   "cell_type": "code",
   "execution_count": 229,
   "metadata": {},
   "outputs": [],
   "source": [
    "spotop = pd.DataFrame()\n",
    "sp = df.Sport.unique()\n",
    "for i in sp:\n",
    "    spotop = pd.concat([spotop,groupsport[groupsport['Sport'] == i].sort_values(by=['allmedals'],ascending= False).head(1)])\n"
   ]
  },
  {
   "cell_type": "code",
   "execution_count": 230,
   "metadata": {},
   "outputs": [
    {
     "data": {
      "text/html": [
       "<div>\n",
       "<style scoped>\n",
       "    .dataframe tbody tr th:only-of-type {\n",
       "        vertical-align: middle;\n",
       "    }\n",
       "\n",
       "    .dataframe tbody tr th {\n",
       "        vertical-align: top;\n",
       "    }\n",
       "\n",
       "    .dataframe thead th {\n",
       "        text-align: right;\n",
       "    }\n",
       "</style>\n",
       "<table border=\"1\" class=\"dataframe\">\n",
       "  <thead>\n",
       "    <tr style=\"text-align: right;\">\n",
       "      <th></th>\n",
       "      <th>Sport</th>\n",
       "      <th>NOC</th>\n",
       "      <th>Bronze</th>\n",
       "      <th>Gold</th>\n",
       "      <th>Silver</th>\n",
       "      <th>allmedals</th>\n",
       "    </tr>\n",
       "  </thead>\n",
       "  <tbody>\n",
       "    <tr>\n",
       "      <th>632</th>\n",
       "      <td>Basketball</td>\n",
       "      <td>USA</td>\n",
       "      <td>36.0</td>\n",
       "      <td>281.0</td>\n",
       "      <td>24.0</td>\n",
       "      <td>341.0</td>\n",
       "    </tr>\n",
       "    <tr>\n",
       "      <th>2095</th>\n",
       "      <td>Judo</td>\n",
       "      <td>JPN</td>\n",
       "      <td>26.0</td>\n",
       "      <td>39.0</td>\n",
       "      <td>19.0</td>\n",
       "      <td>84.0</td>\n",
       "    </tr>\n",
       "    <tr>\n",
       "      <th>1626</th>\n",
       "      <td>Football</td>\n",
       "      <td>BRA</td>\n",
       "      <td>34.0</td>\n",
       "      <td>17.0</td>\n",
       "      <td>85.0</td>\n",
       "      <td>136.0</td>\n",
       "    </tr>\n",
       "    <tr>\n",
       "      <th>3612</th>\n",
       "      <td>Tug-Of-War</td>\n",
       "      <td>GBR</td>\n",
       "      <td>8.0</td>\n",
       "      <td>16.0</td>\n",
       "      <td>16.0</td>\n",
       "      <td>40.0</td>\n",
       "    </tr>\n",
       "    <tr>\n",
       "      <th>2964</th>\n",
       "      <td>Speed Skating</td>\n",
       "      <td>NED</td>\n",
       "      <td>41.0</td>\n",
       "      <td>40.0</td>\n",
       "      <td>36.0</td>\n",
       "      <td>117.0</td>\n",
       "    </tr>\n",
       "    <tr>\n",
       "      <th>1118</th>\n",
       "      <td>Cross Country Skiing</td>\n",
       "      <td>NOR</td>\n",
       "      <td>37.0</td>\n",
       "      <td>54.0</td>\n",
       "      <td>73.0</td>\n",
       "      <td>164.0</td>\n",
       "    </tr>\n",
       "    <tr>\n",
       "      <th>470</th>\n",
       "      <td>Athletics</td>\n",
       "      <td>USA</td>\n",
       "      <td>221.0</td>\n",
       "      <td>542.0</td>\n",
       "      <td>317.0</td>\n",
       "      <td>1080.0</td>\n",
       "    </tr>\n",
       "    <tr>\n",
       "      <th>1981</th>\n",
       "      <td>Ice Hockey</td>\n",
       "      <td>CAN</td>\n",
       "      <td>35.0</td>\n",
       "      <td>220.0</td>\n",
       "      <td>93.0</td>\n",
       "      <td>348.0</td>\n",
       "    </tr>\n",
       "    <tr>\n",
       "      <th>3170</th>\n",
       "      <td>Swimming</td>\n",
       "      <td>USA</td>\n",
       "      <td>175.0</td>\n",
       "      <td>649.0</td>\n",
       "      <td>254.0</td>\n",
       "      <td>1078.0</td>\n",
       "    </tr>\n",
       "    <tr>\n",
       "      <th>493</th>\n",
       "      <td>Badminton</td>\n",
       "      <td>CHN</td>\n",
       "      <td>23.0</td>\n",
       "      <td>28.0</td>\n",
       "      <td>13.0</td>\n",
       "      <td>64.0</td>\n",
       "    </tr>\n",
       "    <tr>\n",
       "      <th>2564</th>\n",
       "      <td>Sailing</td>\n",
       "      <td>GBR</td>\n",
       "      <td>24.0</td>\n",
       "      <td>71.0</td>\n",
       "      <td>48.0</td>\n",
       "      <td>143.0</td>\n",
       "    </tr>\n",
       "    <tr>\n",
       "      <th>700</th>\n",
       "      <td>Biathlon</td>\n",
       "      <td>GER</td>\n",
       "      <td>12.0</td>\n",
       "      <td>34.0</td>\n",
       "      <td>34.0</td>\n",
       "      <td>80.0</td>\n",
       "    </tr>\n",
       "    <tr>\n",
       "      <th>1879</th>\n",
       "      <td>Gymnastics</td>\n",
       "      <td>URS</td>\n",
       "      <td>48.0</td>\n",
       "      <td>141.0</td>\n",
       "      <td>99.0</td>\n",
       "      <td>288.0</td>\n",
       "    </tr>\n",
       "    <tr>\n",
       "      <th>225</th>\n",
       "      <td>Art Competitions</td>\n",
       "      <td>GER</td>\n",
       "      <td>9.0</td>\n",
       "      <td>9.0</td>\n",
       "      <td>8.0</td>\n",
       "      <td>26.0</td>\n",
       "    </tr>\n",
       "    <tr>\n",
       "      <th>7</th>\n",
       "      <td>Alpine Skiing</td>\n",
       "      <td>AUT</td>\n",
       "      <td>41.0</td>\n",
       "      <td>34.0</td>\n",
       "      <td>39.0</td>\n",
       "      <td>114.0</td>\n",
       "    </tr>\n",
       "    <tr>\n",
       "      <th>1912</th>\n",
       "      <td>Handball</td>\n",
       "      <td>KOR</td>\n",
       "      <td>14.0</td>\n",
       "      <td>25.0</td>\n",
       "      <td>57.0</td>\n",
       "      <td>96.0</td>\n",
       "    </tr>\n",
       "    <tr>\n",
       "      <th>3861</th>\n",
       "      <td>Weightlifting</td>\n",
       "      <td>URS</td>\n",
       "      <td>2.0</td>\n",
       "      <td>39.0</td>\n",
       "      <td>21.0</td>\n",
       "      <td>62.0</td>\n",
       "    </tr>\n",
       "    <tr>\n",
       "      <th>3993</th>\n",
       "      <td>Wrestling</td>\n",
       "      <td>USA</td>\n",
       "      <td>34.0</td>\n",
       "      <td>52.0</td>\n",
       "      <td>42.0</td>\n",
       "      <td>128.0</td>\n",
       "    </tr>\n",
       "    <tr>\n",
       "      <th>2213</th>\n",
       "      <td>Luge</td>\n",
       "      <td>GER</td>\n",
       "      <td>10.0</td>\n",
       "      <td>24.0</td>\n",
       "      <td>13.0</td>\n",
       "      <td>47.0</td>\n",
       "    </tr>\n",
       "    <tr>\n",
       "      <th>3688</th>\n",
       "      <td>Water Polo</td>\n",
       "      <td>HUN</td>\n",
       "      <td>36.0</td>\n",
       "      <td>107.0</td>\n",
       "      <td>29.0</td>\n",
       "      <td>172.0</td>\n",
       "    </tr>\n",
       "    <tr>\n",
       "      <th>1963</th>\n",
       "      <td>Hockey</td>\n",
       "      <td>NED</td>\n",
       "      <td>88.0</td>\n",
       "      <td>80.0</td>\n",
       "      <td>87.0</td>\n",
       "      <td>255.0</td>\n",
       "    </tr>\n",
       "    <tr>\n",
       "      <th>2493</th>\n",
       "      <td>Rowing</td>\n",
       "      <td>USA</td>\n",
       "      <td>88.0</td>\n",
       "      <td>186.0</td>\n",
       "      <td>101.0</td>\n",
       "      <td>375.0</td>\n",
       "    </tr>\n",
       "    <tr>\n",
       "      <th>775</th>\n",
       "      <td>Bobsleigh</td>\n",
       "      <td>SUI</td>\n",
       "      <td>32.0</td>\n",
       "      <td>28.0</td>\n",
       "      <td>32.0</td>\n",
       "      <td>92.0</td>\n",
       "    </tr>\n",
       "    <tr>\n",
       "      <th>1512</th>\n",
       "      <td>Fencing</td>\n",
       "      <td>ITA</td>\n",
       "      <td>72.0</td>\n",
       "      <td>151.0</td>\n",
       "      <td>136.0</td>\n",
       "      <td>359.0</td>\n",
       "    </tr>\n",
       "    <tr>\n",
       "      <th>1415</th>\n",
       "      <td>Equestrianism</td>\n",
       "      <td>GER</td>\n",
       "      <td>34.0</td>\n",
       "      <td>77.0</td>\n",
       "      <td>32.0</td>\n",
       "      <td>143.0</td>\n",
       "    </tr>\n",
       "    <tr>\n",
       "      <th>2783</th>\n",
       "      <td>Shooting</td>\n",
       "      <td>USA</td>\n",
       "      <td>40.0</td>\n",
       "      <td>117.0</td>\n",
       "      <td>36.0</td>\n",
       "      <td>193.0</td>\n",
       "    </tr>\n",
       "    <tr>\n",
       "      <th>950</th>\n",
       "      <td>Boxing</td>\n",
       "      <td>USA</td>\n",
       "      <td>39.0</td>\n",
       "      <td>50.0</td>\n",
       "      <td>24.0</td>\n",
       "      <td>113.0</td>\n",
       "    </tr>\n",
       "    <tr>\n",
       "      <th>3383</th>\n",
       "      <td>Taekwondo</td>\n",
       "      <td>KOR</td>\n",
       "      <td>5.0</td>\n",
       "      <td>12.0</td>\n",
       "      <td>2.0</td>\n",
       "      <td>19.0</td>\n",
       "    </tr>\n",
       "    <tr>\n",
       "      <th>1209</th>\n",
       "      <td>Cycling</td>\n",
       "      <td>GBR</td>\n",
       "      <td>55.0</td>\n",
       "      <td>59.0</td>\n",
       "      <td>68.0</td>\n",
       "      <td>182.0</td>\n",
       "    </tr>\n",
       "    <tr>\n",
       "      <th>1382</th>\n",
       "      <td>Diving</td>\n",
       "      <td>USA</td>\n",
       "      <td>46.0</td>\n",
       "      <td>48.0</td>\n",
       "      <td>46.0</td>\n",
       "      <td>140.0</td>\n",
       "    </tr>\n",
       "    <tr>\n",
       "      <th>...</th>\n",
       "      <td>...</td>\n",
       "      <td>...</td>\n",
       "      <td>...</td>\n",
       "      <td>...</td>\n",
       "      <td>...</td>\n",
       "      <td>...</td>\n",
       "    </tr>\n",
       "    <tr>\n",
       "      <th>157</th>\n",
       "      <td>Archery</td>\n",
       "      <td>KOR</td>\n",
       "      <td>9.0</td>\n",
       "      <td>49.0</td>\n",
       "      <td>11.0</td>\n",
       "      <td>69.0</td>\n",
       "    </tr>\n",
       "    <tr>\n",
       "      <th>3664</th>\n",
       "      <td>Volleyball</td>\n",
       "      <td>URS</td>\n",
       "      <td>12.0</td>\n",
       "      <td>81.0</td>\n",
       "      <td>48.0</td>\n",
       "      <td>141.0</td>\n",
       "    </tr>\n",
       "    <tr>\n",
       "      <th>3218</th>\n",
       "      <td>Synchronized Swimming</td>\n",
       "      <td>RUS</td>\n",
       "      <td>0.0</td>\n",
       "      <td>54.0</td>\n",
       "      <td>0.0</td>\n",
       "      <td>54.0</td>\n",
       "    </tr>\n",
       "    <tr>\n",
       "      <th>3239</th>\n",
       "      <td>Table Tennis</td>\n",
       "      <td>CHN</td>\n",
       "      <td>9.0</td>\n",
       "      <td>49.0</td>\n",
       "      <td>23.0</td>\n",
       "      <td>81.0</td>\n",
       "    </tr>\n",
       "    <tr>\n",
       "      <th>2327</th>\n",
       "      <td>Nordic Combined</td>\n",
       "      <td>NOR</td>\n",
       "      <td>8.0</td>\n",
       "      <td>19.0</td>\n",
       "      <td>13.0</td>\n",
       "      <td>40.0</td>\n",
       "    </tr>\n",
       "    <tr>\n",
       "      <th>556</th>\n",
       "      <td>Baseball</td>\n",
       "      <td>CUB</td>\n",
       "      <td>0.0</td>\n",
       "      <td>64.0</td>\n",
       "      <td>48.0</td>\n",
       "      <td>112.0</td>\n",
       "    </tr>\n",
       "    <tr>\n",
       "      <th>2389</th>\n",
       "      <td>Rhythmic Gymnastics</td>\n",
       "      <td>RUS</td>\n",
       "      <td>7.0</td>\n",
       "      <td>34.0</td>\n",
       "      <td>4.0</td>\n",
       "      <td>45.0</td>\n",
       "    </tr>\n",
       "    <tr>\n",
       "      <th>1749</th>\n",
       "      <td>Freestyle Skiing</td>\n",
       "      <td>USA</td>\n",
       "      <td>6.0</td>\n",
       "      <td>8.0</td>\n",
       "      <td>7.0</td>\n",
       "      <td>21.0</td>\n",
       "    </tr>\n",
       "    <tr>\n",
       "      <th>2513</th>\n",
       "      <td>Rugby Sevens</td>\n",
       "      <td>FIJ</td>\n",
       "      <td>0.0</td>\n",
       "      <td>13.0</td>\n",
       "      <td>0.0</td>\n",
       "      <td>13.0</td>\n",
       "    </tr>\n",
       "    <tr>\n",
       "      <th>3533</th>\n",
       "      <td>Trampolining</td>\n",
       "      <td>CHN</td>\n",
       "      <td>6.0</td>\n",
       "      <td>3.0</td>\n",
       "      <td>2.0</td>\n",
       "      <td>11.0</td>\n",
       "    </tr>\n",
       "    <tr>\n",
       "      <th>641</th>\n",
       "      <td>Beach Volleyball</td>\n",
       "      <td>BRA</td>\n",
       "      <td>6.0</td>\n",
       "      <td>6.0</td>\n",
       "      <td>14.0</td>\n",
       "      <td>26.0</td>\n",
       "    </tr>\n",
       "    <tr>\n",
       "      <th>3573</th>\n",
       "      <td>Triathlon</td>\n",
       "      <td>GBR</td>\n",
       "      <td>2.0</td>\n",
       "      <td>2.0</td>\n",
       "      <td>1.0</td>\n",
       "      <td>5.0</td>\n",
       "    </tr>\n",
       "    <tr>\n",
       "      <th>2854</th>\n",
       "      <td>Ski Jumping</td>\n",
       "      <td>AUT</td>\n",
       "      <td>16.0</td>\n",
       "      <td>12.0</td>\n",
       "      <td>15.0</td>\n",
       "      <td>43.0</td>\n",
       "    </tr>\n",
       "    <tr>\n",
       "      <th>1143</th>\n",
       "      <td>Curling</td>\n",
       "      <td>CAN</td>\n",
       "      <td>10.0</td>\n",
       "      <td>23.0</td>\n",
       "      <td>15.0</td>\n",
       "      <td>48.0</td>\n",
       "    </tr>\n",
       "    <tr>\n",
       "      <th>2925</th>\n",
       "      <td>Snowboarding</td>\n",
       "      <td>USA</td>\n",
       "      <td>9.0</td>\n",
       "      <td>10.0</td>\n",
       "      <td>5.0</td>\n",
       "      <td>24.0</td>\n",
       "    </tr>\n",
       "    <tr>\n",
       "      <th>2501</th>\n",
       "      <td>Rugby</td>\n",
       "      <td>FRA</td>\n",
       "      <td>0.0</td>\n",
       "      <td>15.0</td>\n",
       "      <td>34.0</td>\n",
       "      <td>49.0</td>\n",
       "    </tr>\n",
       "    <tr>\n",
       "      <th>2809</th>\n",
       "      <td>Short Track Speed Skating</td>\n",
       "      <td>KOR</td>\n",
       "      <td>9.0</td>\n",
       "      <td>45.0</td>\n",
       "      <td>19.0</td>\n",
       "      <td>73.0</td>\n",
       "    </tr>\n",
       "    <tr>\n",
       "      <th>2853</th>\n",
       "      <td>Skeleton</td>\n",
       "      <td>USA</td>\n",
       "      <td>1.0</td>\n",
       "      <td>3.0</td>\n",
       "      <td>4.0</td>\n",
       "      <td>8.0</td>\n",
       "    </tr>\n",
       "    <tr>\n",
       "      <th>2192</th>\n",
       "      <td>Lacrosse</td>\n",
       "      <td>CAN</td>\n",
       "      <td>12.0</td>\n",
       "      <td>24.0</td>\n",
       "      <td>0.0</td>\n",
       "      <td>36.0</td>\n",
       "    </tr>\n",
       "    <tr>\n",
       "      <th>2344</th>\n",
       "      <td>Polo</td>\n",
       "      <td>GBR</td>\n",
       "      <td>5.0</td>\n",
       "      <td>11.0</td>\n",
       "      <td>14.0</td>\n",
       "      <td>30.0</td>\n",
       "    </tr>\n",
       "    <tr>\n",
       "      <th>1060</th>\n",
       "      <td>Cricket</td>\n",
       "      <td>GBR</td>\n",
       "      <td>0.0</td>\n",
       "      <td>12.0</td>\n",
       "      <td>9.0</td>\n",
       "      <td>21.0</td>\n",
       "    </tr>\n",
       "    <tr>\n",
       "      <th>2349</th>\n",
       "      <td>Racquets</td>\n",
       "      <td>GBR</td>\n",
       "      <td>4.0</td>\n",
       "      <td>3.0</td>\n",
       "      <td>3.0</td>\n",
       "      <td>10.0</td>\n",
       "    </tr>\n",
       "    <tr>\n",
       "      <th>2308</th>\n",
       "      <td>Motorboating</td>\n",
       "      <td>GBR</td>\n",
       "      <td>0.0</td>\n",
       "      <td>6.0</td>\n",
       "      <td>0.0</td>\n",
       "      <td>6.0</td>\n",
       "    </tr>\n",
       "    <tr>\n",
       "      <th>2244</th>\n",
       "      <td>Military Ski Patrol</td>\n",
       "      <td>FIN</td>\n",
       "      <td>0.0</td>\n",
       "      <td>0.0</td>\n",
       "      <td>4.0</td>\n",
       "      <td>4.0</td>\n",
       "    </tr>\n",
       "    <tr>\n",
       "      <th>1061</th>\n",
       "      <td>Croquet</td>\n",
       "      <td>FRA</td>\n",
       "      <td>2.0</td>\n",
       "      <td>4.0</td>\n",
       "      <td>2.0</td>\n",
       "      <td>8.0</td>\n",
       "    </tr>\n",
       "    <tr>\n",
       "      <th>2010</th>\n",
       "      <td>Jeu De Paume</td>\n",
       "      <td>GBR</td>\n",
       "      <td>1.0</td>\n",
       "      <td>0.0</td>\n",
       "      <td>1.0</td>\n",
       "      <td>2.0</td>\n",
       "    </tr>\n",
       "    <tr>\n",
       "      <th>2398</th>\n",
       "      <td>Roque</td>\n",
       "      <td>USA</td>\n",
       "      <td>1.0</td>\n",
       "      <td>1.0</td>\n",
       "      <td>1.0</td>\n",
       "      <td>3.0</td>\n",
       "    </tr>\n",
       "    <tr>\n",
       "      <th>103</th>\n",
       "      <td>Alpinism</td>\n",
       "      <td>GBR</td>\n",
       "      <td>0.0</td>\n",
       "      <td>12.0</td>\n",
       "      <td>0.0</td>\n",
       "      <td>12.0</td>\n",
       "    </tr>\n",
       "    <tr>\n",
       "      <th>635</th>\n",
       "      <td>Basque Pelota</td>\n",
       "      <td>ESP</td>\n",
       "      <td>0.0</td>\n",
       "      <td>2.0</td>\n",
       "      <td>0.0</td>\n",
       "      <td>2.0</td>\n",
       "    </tr>\n",
       "    <tr>\n",
       "      <th>0</th>\n",
       "      <td>Aeronautics</td>\n",
       "      <td>SUI</td>\n",
       "      <td>0.0</td>\n",
       "      <td>1.0</td>\n",
       "      <td>0.0</td>\n",
       "      <td>1.0</td>\n",
       "    </tr>\n",
       "  </tbody>\n",
       "</table>\n",
       "<p>66 rows × 6 columns</p>\n",
       "</div>"
      ],
      "text/plain": [
       "                          Sport  NOC  Bronze   Gold  Silver  allmedals\n",
       "632                  Basketball  USA    36.0  281.0    24.0      341.0\n",
       "2095                       Judo  JPN    26.0   39.0    19.0       84.0\n",
       "1626                   Football  BRA    34.0   17.0    85.0      136.0\n",
       "3612                 Tug-Of-War  GBR     8.0   16.0    16.0       40.0\n",
       "2964              Speed Skating  NED    41.0   40.0    36.0      117.0\n",
       "1118       Cross Country Skiing  NOR    37.0   54.0    73.0      164.0\n",
       "470                   Athletics  USA   221.0  542.0   317.0     1080.0\n",
       "1981                 Ice Hockey  CAN    35.0  220.0    93.0      348.0\n",
       "3170                   Swimming  USA   175.0  649.0   254.0     1078.0\n",
       "493                   Badminton  CHN    23.0   28.0    13.0       64.0\n",
       "2564                    Sailing  GBR    24.0   71.0    48.0      143.0\n",
       "700                    Biathlon  GER    12.0   34.0    34.0       80.0\n",
       "1879                 Gymnastics  URS    48.0  141.0    99.0      288.0\n",
       "225            Art Competitions  GER     9.0    9.0     8.0       26.0\n",
       "7                 Alpine Skiing  AUT    41.0   34.0    39.0      114.0\n",
       "1912                   Handball  KOR    14.0   25.0    57.0       96.0\n",
       "3861              Weightlifting  URS     2.0   39.0    21.0       62.0\n",
       "3993                  Wrestling  USA    34.0   52.0    42.0      128.0\n",
       "2213                       Luge  GER    10.0   24.0    13.0       47.0\n",
       "3688                 Water Polo  HUN    36.0  107.0    29.0      172.0\n",
       "1963                     Hockey  NED    88.0   80.0    87.0      255.0\n",
       "2493                     Rowing  USA    88.0  186.0   101.0      375.0\n",
       "775                   Bobsleigh  SUI    32.0   28.0    32.0       92.0\n",
       "1512                    Fencing  ITA    72.0  151.0   136.0      359.0\n",
       "1415              Equestrianism  GER    34.0   77.0    32.0      143.0\n",
       "2783                   Shooting  USA    40.0  117.0    36.0      193.0\n",
       "950                      Boxing  USA    39.0   50.0    24.0      113.0\n",
       "3383                  Taekwondo  KOR     5.0   12.0     2.0       19.0\n",
       "1209                    Cycling  GBR    55.0   59.0    68.0      182.0\n",
       "1382                     Diving  USA    46.0   48.0    46.0      140.0\n",
       "...                         ...  ...     ...    ...     ...        ...\n",
       "157                     Archery  KOR     9.0   49.0    11.0       69.0\n",
       "3664                 Volleyball  URS    12.0   81.0    48.0      141.0\n",
       "3218      Synchronized Swimming  RUS     0.0   54.0     0.0       54.0\n",
       "3239               Table Tennis  CHN     9.0   49.0    23.0       81.0\n",
       "2327            Nordic Combined  NOR     8.0   19.0    13.0       40.0\n",
       "556                    Baseball  CUB     0.0   64.0    48.0      112.0\n",
       "2389        Rhythmic Gymnastics  RUS     7.0   34.0     4.0       45.0\n",
       "1749           Freestyle Skiing  USA     6.0    8.0     7.0       21.0\n",
       "2513               Rugby Sevens  FIJ     0.0   13.0     0.0       13.0\n",
       "3533               Trampolining  CHN     6.0    3.0     2.0       11.0\n",
       "641            Beach Volleyball  BRA     6.0    6.0    14.0       26.0\n",
       "3573                  Triathlon  GBR     2.0    2.0     1.0        5.0\n",
       "2854                Ski Jumping  AUT    16.0   12.0    15.0       43.0\n",
       "1143                    Curling  CAN    10.0   23.0    15.0       48.0\n",
       "2925               Snowboarding  USA     9.0   10.0     5.0       24.0\n",
       "2501                      Rugby  FRA     0.0   15.0    34.0       49.0\n",
       "2809  Short Track Speed Skating  KOR     9.0   45.0    19.0       73.0\n",
       "2853                   Skeleton  USA     1.0    3.0     4.0        8.0\n",
       "2192                   Lacrosse  CAN    12.0   24.0     0.0       36.0\n",
       "2344                       Polo  GBR     5.0   11.0    14.0       30.0\n",
       "1060                    Cricket  GBR     0.0   12.0     9.0       21.0\n",
       "2349                   Racquets  GBR     4.0    3.0     3.0       10.0\n",
       "2308               Motorboating  GBR     0.0    6.0     0.0        6.0\n",
       "2244        Military Ski Patrol  FIN     0.0    0.0     4.0        4.0\n",
       "1061                    Croquet  FRA     2.0    4.0     2.0        8.0\n",
       "2010               Jeu De Paume  GBR     1.0    0.0     1.0        2.0\n",
       "2398                      Roque  USA     1.0    1.0     1.0        3.0\n",
       "103                    Alpinism  GBR     0.0   12.0     0.0       12.0\n",
       "635               Basque Pelota  ESP     0.0    2.0     0.0        2.0\n",
       "0                   Aeronautics  SUI     0.0    1.0     0.0        1.0\n",
       "\n",
       "[66 rows x 6 columns]"
      ]
     },
     "execution_count": 230,
     "metadata": {},
     "output_type": "execute_result"
    }
   ],
   "source": [
    "spotop = spotop[['Sport','NOC','Bronze','Gold','Silver','allmedals']]\n",
    "spotop"
   ]
  },
  {
   "cell_type": "markdown",
   "metadata": {},
   "source": [
    "The name of Sport and the country which dominated that Sport.\n",
    "\n",
    "Lets, now look at the Sports where USA shows dominance."
   ]
  },
  {
   "cell_type": "code",
   "execution_count": 233,
   "metadata": {},
   "outputs": [
    {
     "data": {
      "text/plain": [
       "{'Athletics',\n",
       " 'Basketball',\n",
       " 'Boxing',\n",
       " 'Diving',\n",
       " 'Figure Skating',\n",
       " 'Freestyle Skiing',\n",
       " 'Golf',\n",
       " 'Roque',\n",
       " 'Rowing',\n",
       " 'Shooting',\n",
       " 'Skeleton',\n",
       " 'Snowboarding',\n",
       " 'Swimming',\n",
       " 'Wrestling'}"
      ]
     },
     "execution_count": 233,
     "metadata": {},
     "output_type": "execute_result"
    }
   ],
   "source": [
    "set(spotop[spotop['NOC'] == 'USA']['Sport'])"
   ]
  },
  {
   "cell_type": "markdown",
   "metadata": {},
   "source": [
    "These are sports where USA dominated in olympics. I was expecting baseball in the list, but no it is not there? :0\n",
    "\n",
    "Lets see who tops Baseball."
   ]
  },
  {
   "cell_type": "code",
   "execution_count": 234,
   "metadata": {},
   "outputs": [
    {
     "data": {
      "text/html": [
       "<div>\n",
       "<style scoped>\n",
       "    .dataframe tbody tr th:only-of-type {\n",
       "        vertical-align: middle;\n",
       "    }\n",
       "\n",
       "    .dataframe tbody tr th {\n",
       "        vertical-align: top;\n",
       "    }\n",
       "\n",
       "    .dataframe thead th {\n",
       "        text-align: right;\n",
       "    }\n",
       "</style>\n",
       "<table border=\"1\" class=\"dataframe\">\n",
       "  <thead>\n",
       "    <tr style=\"text-align: right;\">\n",
       "      <th></th>\n",
       "      <th>Sport</th>\n",
       "      <th>NOC</th>\n",
       "      <th>Bronze</th>\n",
       "      <th>Gold</th>\n",
       "      <th>Silver</th>\n",
       "      <th>allmedals</th>\n",
       "    </tr>\n",
       "  </thead>\n",
       "  <tbody>\n",
       "    <tr>\n",
       "      <th>556</th>\n",
       "      <td>Baseball</td>\n",
       "      <td>CUB</td>\n",
       "      <td>0.0</td>\n",
       "      <td>64.0</td>\n",
       "      <td>48.0</td>\n",
       "      <td>112.0</td>\n",
       "    </tr>\n",
       "  </tbody>\n",
       "</table>\n",
       "</div>"
      ],
      "text/plain": [
       "        Sport  NOC  Bronze  Gold  Silver  allmedals\n",
       "556  Baseball  CUB     0.0  64.0    48.0      112.0"
      ]
     },
     "execution_count": 234,
     "metadata": {},
     "output_type": "execute_result"
    }
   ],
   "source": [
    "spotop[spotop['Sport']=='Baseball']"
   ]
  },
  {
   "cell_type": "markdown",
   "metadata": {},
   "source": [
    "COOL! Didnt expect this one tho. CUBA"
   ]
  },
  {
   "cell_type": "markdown",
   "metadata": {},
   "source": [
    "Lets see what all the sports that were played in Olympics so far."
   ]
  },
  {
   "cell_type": "code",
   "execution_count": 235,
   "metadata": {},
   "outputs": [
    {
     "data": {
      "text/plain": [
       "array(['Basketball', 'Judo', 'Football', 'Tug-Of-War', 'Speed Skating',\n",
       "       'Cross Country Skiing', 'Athletics', 'Ice Hockey', 'Swimming',\n",
       "       'Badminton', 'Sailing', 'Biathlon', 'Gymnastics',\n",
       "       'Art Competitions', 'Alpine Skiing', 'Handball', 'Weightlifting',\n",
       "       'Wrestling', 'Luge', 'Water Polo', 'Hockey', 'Rowing', 'Bobsleigh',\n",
       "       'Fencing', 'Equestrianism', 'Shooting', 'Boxing', 'Taekwondo',\n",
       "       'Cycling', 'Diving', 'Canoeing', 'Tennis', 'Modern Pentathlon',\n",
       "       'Figure Skating', 'Golf', 'Softball', 'Archery', 'Volleyball',\n",
       "       'Synchronized Swimming', 'Table Tennis', 'Nordic Combined',\n",
       "       'Baseball', 'Rhythmic Gymnastics', 'Freestyle Skiing',\n",
       "       'Rugby Sevens', 'Trampolining', 'Beach Volleyball', 'Triathlon',\n",
       "       'Ski Jumping', 'Curling', 'Snowboarding', 'Rugby',\n",
       "       'Short Track Speed Skating', 'Skeleton', 'Lacrosse', 'Polo',\n",
       "       'Cricket', 'Racquets', 'Motorboating', 'Military Ski Patrol',\n",
       "       'Croquet', 'Jeu De Paume', 'Roque', 'Alpinism', 'Basque Pelota',\n",
       "       'Aeronautics'], dtype=object)"
      ]
     },
     "execution_count": 235,
     "metadata": {},
     "output_type": "execute_result"
    }
   ],
   "source": [
    "df.Sport.unique()"
   ]
  },
  {
   "cell_type": "markdown",
   "metadata": {},
   "source": [
    "Honestly! Didnt even know half of them."
   ]
  },
  {
   "cell_type": "markdown",
   "metadata": {},
   "source": [
    "## Lets see the average Age of players in each Olympics"
   ]
  },
  {
   "cell_type": "code",
   "execution_count": 305,
   "metadata": {},
   "outputs": [],
   "source": [
    "dfage = df.groupby(['Year','ID'],as_index=False).mean()"
   ]
  },
  {
   "cell_type": "markdown",
   "metadata": {},
   "source": [
    "- As, we have NaN in Age column, lets not consider them. The following fucntion does that.\n",
    "- Groupby the mean "
   ]
  },
  {
   "cell_type": "code",
   "execution_count": 306,
   "metadata": {},
   "outputs": [],
   "source": [
    "dfage = dfage[np.isfinite(dfage['Age'])]"
   ]
  },
  {
   "cell_type": "code",
   "execution_count": 307,
   "metadata": {},
   "outputs": [],
   "source": [
    "dfage = dfage.groupby('Year',as_index= False).mean()"
   ]
  },
  {
   "cell_type": "code",
   "execution_count": 308,
   "metadata": {},
   "outputs": [
    {
     "data": {
      "image/png": "[encoded data removed]",
      "text/plain": [
       "<matplotlib.figure.Figure at 0x1f9425c9668>"
      ]
     },
     "metadata": {},
     "output_type": "display_data"
    }
   ],
   "source": [
    "plt.plot(dfage.Year,dfage.Age)\n",
    "plt.xticks(range(1896,2024,4))\n",
    "plt.show()"
   ]
  },
  {
   "cell_type": "markdown",
   "metadata": {},
   "source": [
    "### Plot of average age of players in each olympics"
   ]
  },
  {
   "cell_type": "markdown",
   "metadata": {},
   "source": [
    "## Lets see the average Age,Height,Weight of players in their respective Sport"
   ]
  },
  {
   "cell_type": "code",
   "execution_count": 288,
   "metadata": {},
   "outputs": [],
   "source": [
    "dfagesport = df.groupby(['Sport','ID'],as_index=False).mean()"
   ]
  },
  {
   "cell_type": "code",
   "execution_count": 292,
   "metadata": {},
   "outputs": [],
   "source": [
    "dfagesport = dfagesport.groupby(['Sport'],as_index=False).mean()"
   ]
  },
  {
   "cell_type": "code",
   "execution_count": 310,
   "metadata": {},
   "outputs": [
    {
     "data": {
      "image/png": "[encoded data removed]",
      "text/plain": [
       "<matplotlib.figure.Figure at 0x1f942cf5fd0>"
      ]
     },
     "metadata": {},
     "output_type": "display_data"
    }
   ],
   "source": [
    "plot4 = sns.barplot('Sport','Age',data = dfagesport.sort_values('Age')).set_xticklabels(dfagesport.sort_values('Age').Sport,rotation=82)"
   ]
  },
  {
   "cell_type": "markdown",
   "metadata": {},
   "source": [
    "#### The plot of Average of age of participants in each sport is shown above.\n",
    "- To remove the Nan height columns, we do the following"
   ]
  },
  {
   "cell_type": "code",
   "execution_count": 312,
   "metadata": {},
   "outputs": [],
   "source": [
    "dfheight = dfagesport[np.isfinite(dfagesport['Height'])]"
   ]
  },
  {
   "cell_type": "code",
   "execution_count": 313,
   "metadata": {},
   "outputs": [
    {
     "data": {
      "image/png": "[encoded data removed]",
      "text/plain": [
       "<matplotlib.figure.Figure at 0x1f9405cae10>"
      ]
     },
     "metadata": {},
     "output_type": "display_data"
    }
   ],
   "source": [
    "plot4 = sns.barplot('Sport','Height',data = dfheight.sort_values('Height')).set_xticklabels(dfheight.sort_values('Height').Sport,rotation=82)"
   ]
  },
  {
   "cell_type": "markdown",
   "metadata": {},
   "source": [
    "### The plot of Average of Height of participants in each sport is shown above.\n"
   ]
  },
  {
   "cell_type": "markdown",
   "metadata": {},
   "source": [
    "## Obviously, Basketball players are tall."
   ]
  },
  {
   "cell_type": "code",
   "execution_count": 314,
   "metadata": {},
   "outputs": [
    {
     "data": {
      "image/png": "[encoded data removed]",
      "text/plain": [
       "<matplotlib.figure.Figure at 0x1f93a22d240>"
      ]
     },
     "metadata": {},
     "output_type": "display_data"
    }
   ],
   "source": [
    "dfweight = dfagesport[np.isfinite(dfagesport['Weight'])]\n",
    "plot4 = sns.barplot('Sport','Weight',data = dfweight.sort_values('Weight')).set_xticklabels(dfweight.sort_values('Weight').Sport,rotation=82)"
   ]
  },
  {
   "cell_type": "markdown",
   "metadata": {},
   "source": [
    "### The participants of Tug-of-war(Now not a game of Olympics) are heavy, ummm...understandable."
   ]
  },
  {
   "cell_type": "markdown",
   "metadata": {},
   "source": [
    "#  <font color='red'> STATS ON/OF PARTICIPANTS. </font>"
   ]
  },
  {
   "cell_type": "markdown",
   "metadata": {},
   "source": [
    "### Top 15 Participants as per most appearances any event in Olympics"
   ]
  },
  {
   "cell_type": "code",
   "execution_count": 164,
   "metadata": {},
   "outputs": [
    {
     "data": {
      "text/plain": [
       "Robert Tait McKenzie                58\n",
       "Heikki Ilmari Savolainen            39\n",
       "Joseph \"Josy\" Stoffel               38\n",
       "Ioannis Theofilakis                 36\n",
       "Takashi Ono                         33\n",
       "Alfrd (Arnold-) Hajs (Guttmann-)    32\n",
       "Andreas Wecker                      32\n",
       "Alexandros Theofilakis              32\n",
       "Jean Lucien Nicolas Jacoby          32\n",
       "Alfred James Munnings               31\n",
       "Alfred August \"Al\" Jochim           31\n",
       "Michel Mathiot                      31\n",
       "Johann \"Hans\" Sauter                31\n",
       "Michael Fred Phelps, II             30\n",
       "Yordan Yovchev Yovchev              30\n",
       "Name: Name, dtype: int64"
      ]
     },
     "execution_count": 164,
     "metadata": {},
     "output_type": "execute_result"
    }
   ],
   "source": [
    "df.Name.value_counts()[:15]"
   ]
  },
  {
   "cell_type": "markdown",
   "metadata": {},
   "source": [
    "Shocking that he appeared more than 58 times. Lets look at his stats.\n",
    "\n",
    "The number of times he won a medal."
   ]
  },
  {
   "cell_type": "code",
   "execution_count": 173,
   "metadata": {},
   "outputs": [
    {
     "data": {
      "text/html": [
       "<div>\n",
       "<style scoped>\n",
       "    .dataframe tbody tr th:only-of-type {\n",
       "        vertical-align: middle;\n",
       "    }\n",
       "\n",
       "    .dataframe tbody tr th {\n",
       "        vertical-align: top;\n",
       "    }\n",
       "\n",
       "    .dataframe thead th {\n",
       "        text-align: right;\n",
       "    }\n",
       "</style>\n",
       "<table border=\"1\" class=\"dataframe\">\n",
       "  <thead>\n",
       "    <tr style=\"text-align: right;\">\n",
       "      <th></th>\n",
       "      <th>ID</th>\n",
       "      <th>Name</th>\n",
       "      <th>Sex</th>\n",
       "      <th>Age</th>\n",
       "      <th>Height</th>\n",
       "      <th>Weight</th>\n",
       "      <th>Team</th>\n",
       "      <th>NOC</th>\n",
       "      <th>Games</th>\n",
       "      <th>Year</th>\n",
       "      <th>Season</th>\n",
       "      <th>City</th>\n",
       "      <th>Sport</th>\n",
       "      <th>Event</th>\n",
       "      <th>Medal</th>\n",
       "      <th>Bronze</th>\n",
       "      <th>Gold</th>\n",
       "      <th>Silver</th>\n",
       "      <th>allmedals</th>\n",
       "    </tr>\n",
       "  </thead>\n",
       "  <tbody>\n",
       "    <tr>\n",
       "      <th>154806</th>\n",
       "      <td>77710</td>\n",
       "      <td>Robert Tait McKenzie</td>\n",
       "      <td>M</td>\n",
       "      <td>65.0</td>\n",
       "      <td>NaN</td>\n",
       "      <td>NaN</td>\n",
       "      <td>Canada</td>\n",
       "      <td>CAN</td>\n",
       "      <td>1932 Summer</td>\n",
       "      <td>1932</td>\n",
       "      <td>Summer</td>\n",
       "      <td>Los Angeles</td>\n",
       "      <td>Art Competitions</td>\n",
       "      <td>Art Competitions Mixed Sculpturing, Medals And...</td>\n",
       "      <td>Bronze</td>\n",
       "      <td>1</td>\n",
       "      <td>0</td>\n",
       "      <td>0</td>\n",
       "      <td>1</td>\n",
       "    </tr>\n",
       "  </tbody>\n",
       "</table>\n",
       "</div>"
      ],
      "text/plain": [
       "           ID                  Name Sex   Age  Height  Weight    Team  NOC  \\\n",
       "154806  77710  Robert Tait McKenzie   M  65.0     NaN     NaN  Canada  CAN   \n",
       "\n",
       "              Games  Year  Season         City             Sport  \\\n",
       "154806  1932 Summer  1932  Summer  Los Angeles  Art Competitions   \n",
       "\n",
       "                                                    Event   Medal  Bronze  \\\n",
       "154806  Art Competitions Mixed Sculpturing, Medals And...  Bronze       1   \n",
       "\n",
       "        Gold  Silver  allmedals  \n",
       "154806     0       0          1  "
      ]
     },
     "execution_count": 173,
     "metadata": {},
     "output_type": "execute_result"
    }
   ],
   "source": [
    "df[(df.Name == 'Robert Tait McKenzie') & (df.allmedals == 1)]"
   ]
  },
  {
   "cell_type": "markdown",
   "metadata": {},
   "source": [
    "Ooops! Only one medal in 58 appearances? Bad luck tho"
   ]
  },
  {
   "cell_type": "markdown",
   "metadata": {},
   "source": [
    "## Top 10 Players with Most number of medals."
   ]
  },
  {
   "cell_type": "code",
   "execution_count": 247,
   "metadata": {},
   "outputs": [],
   "source": [
    "medals = df.groupby('Name',as_index=False).sum()"
   ]
  },
  {
   "cell_type": "code",
   "execution_count": 248,
   "metadata": {},
   "outputs": [],
   "source": [
    "mostmed = medals.sort_values(by=['allmedals'],ascending=False)"
   ]
  },
  {
   "cell_type": "code",
   "execution_count": 249,
   "metadata": {},
   "outputs": [
    {
     "data": {
      "text/html": [
       "<div>\n",
       "<style scoped>\n",
       "    .dataframe tbody tr th:only-of-type {\n",
       "        vertical-align: middle;\n",
       "    }\n",
       "\n",
       "    .dataframe tbody tr th {\n",
       "        vertical-align: top;\n",
       "    }\n",
       "\n",
       "    .dataframe thead th {\n",
       "        text-align: right;\n",
       "    }\n",
       "</style>\n",
       "<table border=\"1\" class=\"dataframe\">\n",
       "  <thead>\n",
       "    <tr style=\"text-align: right;\">\n",
       "      <th></th>\n",
       "      <th>Name</th>\n",
       "      <th>Bronze</th>\n",
       "      <th>Gold</th>\n",
       "      <th>Silver</th>\n",
       "      <th>allmedals</th>\n",
       "    </tr>\n",
       "  </thead>\n",
       "  <tbody>\n",
       "    <tr>\n",
       "      <th>86745</th>\n",
       "      <td>Michael Fred Phelps, II</td>\n",
       "      <td>2</td>\n",
       "      <td>23</td>\n",
       "      <td>3</td>\n",
       "      <td>28</td>\n",
       "    </tr>\n",
       "    <tr>\n",
       "      <th>73140</th>\n",
       "      <td>Larysa Semenivna Latynina (Diriy-)</td>\n",
       "      <td>4</td>\n",
       "      <td>9</td>\n",
       "      <td>5</td>\n",
       "      <td>18</td>\n",
       "    </tr>\n",
       "    <tr>\n",
       "      <th>93738</th>\n",
       "      <td>Nikolay Yefimovich Andrianov</td>\n",
       "      <td>3</td>\n",
       "      <td>7</td>\n",
       "      <td>5</td>\n",
       "      <td>15</td>\n",
       "    </tr>\n",
       "    <tr>\n",
       "      <th>118712</th>\n",
       "      <td>Takashi Ono</td>\n",
       "      <td>4</td>\n",
       "      <td>5</td>\n",
       "      <td>4</td>\n",
       "      <td>13</td>\n",
       "    </tr>\n",
       "    <tr>\n",
       "      <th>16202</th>\n",
       "      <td>Borys Anfiyanovych Shakhlin</td>\n",
       "      <td>2</td>\n",
       "      <td>7</td>\n",
       "      <td>4</td>\n",
       "      <td>13</td>\n",
       "    </tr>\n",
       "    <tr>\n",
       "      <th>95141</th>\n",
       "      <td>Ole Einar Bjrndalen</td>\n",
       "      <td>1</td>\n",
       "      <td>8</td>\n",
       "      <td>4</td>\n",
       "      <td>13</td>\n",
       "    </tr>\n",
       "    <tr>\n",
       "      <th>29509</th>\n",
       "      <td>Edoardo Mangiarotti</td>\n",
       "      <td>2</td>\n",
       "      <td>6</td>\n",
       "      <td>5</td>\n",
       "      <td>13</td>\n",
       "    </tr>\n",
       "    <tr>\n",
       "      <th>91718</th>\n",
       "      <td>Natalie Anne Coughlin (-Hall)</td>\n",
       "      <td>5</td>\n",
       "      <td>3</td>\n",
       "      <td>4</td>\n",
       "      <td>12</td>\n",
       "    </tr>\n",
       "    <tr>\n",
       "      <th>111837</th>\n",
       "      <td>Sawao Kato</td>\n",
       "      <td>1</td>\n",
       "      <td>8</td>\n",
       "      <td>3</td>\n",
       "      <td>12</td>\n",
       "    </tr>\n",
       "    <tr>\n",
       "      <th>24893</th>\n",
       "      <td>Dara Grace Torres (-Hoffman, -Minas)</td>\n",
       "      <td>4</td>\n",
       "      <td>4</td>\n",
       "      <td>4</td>\n",
       "      <td>12</td>\n",
       "    </tr>\n",
       "  </tbody>\n",
       "</table>\n",
       "</div>"
      ],
      "text/plain": [
       "                                        Name  Bronze  Gold  Silver  allmedals\n",
       "86745                Michael Fred Phelps, II       2    23       3         28\n",
       "73140     Larysa Semenivna Latynina (Diriy-)       4     9       5         18\n",
       "93738           Nikolay Yefimovich Andrianov       3     7       5         15\n",
       "118712                           Takashi Ono       4     5       4         13\n",
       "16202            Borys Anfiyanovych Shakhlin       2     7       4         13\n",
       "95141                    Ole Einar Bjrndalen       1     8       4         13\n",
       "29509                    Edoardo Mangiarotti       2     6       5         13\n",
       "91718          Natalie Anne Coughlin (-Hall)       5     3       4         12\n",
       "111837                            Sawao Kato       1     8       3         12\n",
       "24893   Dara Grace Torres (-Hoffman, -Minas)       4     4       4         12"
      ]
     },
     "execution_count": 249,
     "metadata": {},
     "output_type": "execute_result"
    }
   ],
   "source": [
    "mostmed.head(10)[['Name','Bronze','Gold','Silver','allmedals']]"
   ]
  },
  {
   "cell_type": "markdown",
   "metadata": {},
   "source": [
    "#### The listed above players are top 10 (in order) players with most medals. Phelps tops the list with 28 :0 \n",
    "\n",
    "Lets see how many players have won more than 10 medals(inclusive)."
   ]
  },
  {
   "cell_type": "code",
   "execution_count": 250,
   "metadata": {},
   "outputs": [
    {
     "name": "stdout",
     "output_type": "stream",
     "text": [
      "Number of players with more than 10 Medals 37\n"
     ]
    }
   ],
   "source": [
    "print(\"Number of players with more than 10 Medals\", len(mostmed[mostmed.allmedals >= 10]))"
   ]
  },
  {
   "cell_type": "markdown",
   "metadata": {},
   "source": [
    "### Players with most number of GOLD medals."
   ]
  },
  {
   "cell_type": "code",
   "execution_count": 252,
   "metadata": {},
   "outputs": [
    {
     "data": {
      "text/html": [
       "<div>\n",
       "<style scoped>\n",
       "    .dataframe tbody tr th:only-of-type {\n",
       "        vertical-align: middle;\n",
       "    }\n",
       "\n",
       "    .dataframe tbody tr th {\n",
       "        vertical-align: top;\n",
       "    }\n",
       "\n",
       "    .dataframe thead th {\n",
       "        text-align: right;\n",
       "    }\n",
       "</style>\n",
       "<table border=\"1\" class=\"dataframe\">\n",
       "  <thead>\n",
       "    <tr style=\"text-align: right;\">\n",
       "      <th></th>\n",
       "      <th>Name</th>\n",
       "      <th>Gold</th>\n",
       "    </tr>\n",
       "  </thead>\n",
       "  <tbody>\n",
       "    <tr>\n",
       "      <th>86745</th>\n",
       "      <td>Michael Fred Phelps, II</td>\n",
       "      <td>23</td>\n",
       "    </tr>\n",
       "    <tr>\n",
       "      <th>104057</th>\n",
       "      <td>Raymond Clarence \"Ray\" Ewry</td>\n",
       "      <td>10</td>\n",
       "    </tr>\n",
       "    <tr>\n",
       "      <th>83112</th>\n",
       "      <td>Mark Andrew Spitz</td>\n",
       "      <td>9</td>\n",
       "    </tr>\n",
       "    <tr>\n",
       "      <th>97002</th>\n",
       "      <td>Paavo Johannes Nurmi</td>\n",
       "      <td>9</td>\n",
       "    </tr>\n",
       "    <tr>\n",
       "      <th>73140</th>\n",
       "      <td>Larysa Semenivna Latynina (Diriy-)</td>\n",
       "      <td>9</td>\n",
       "    </tr>\n",
       "    <tr>\n",
       "      <th>38069</th>\n",
       "      <td>Frederick Carlton \"Carl\" Lewis</td>\n",
       "      <td>9</td>\n",
       "    </tr>\n",
       "    <tr>\n",
       "      <th>57801</th>\n",
       "      <td>Jennifer Elisabeth \"Jenny\" Thompson (-Cumpelik)</td>\n",
       "      <td>8</td>\n",
       "    </tr>\n",
       "    <tr>\n",
       "      <th>15392</th>\n",
       "      <td>Birgit Fischer-Schmidt</td>\n",
       "      <td>8</td>\n",
       "    </tr>\n",
       "    <tr>\n",
       "      <th>123399</th>\n",
       "      <td>Usain St. Leo Bolt</td>\n",
       "      <td>8</td>\n",
       "    </tr>\n",
       "    <tr>\n",
       "      <th>95141</th>\n",
       "      <td>Ole Einar Bjrndalen</td>\n",
       "      <td>8</td>\n",
       "    </tr>\n",
       "  </tbody>\n",
       "</table>\n",
       "</div>"
      ],
      "text/plain": [
       "                                                   Name  Gold\n",
       "86745                           Michael Fred Phelps, II    23\n",
       "104057                      Raymond Clarence \"Ray\" Ewry    10\n",
       "83112                                 Mark Andrew Spitz     9\n",
       "97002                              Paavo Johannes Nurmi     9\n",
       "73140                Larysa Semenivna Latynina (Diriy-)     9\n",
       "38069                    Frederick Carlton \"Carl\" Lewis     9\n",
       "57801   Jennifer Elisabeth \"Jenny\" Thompson (-Cumpelik)     8\n",
       "15392                            Birgit Fischer-Schmidt     8\n",
       "123399                               Usain St. Leo Bolt     8\n",
       "95141                               Ole Einar Bjrndalen     8"
      ]
     },
     "execution_count": 252,
     "metadata": {},
     "output_type": "execute_result"
    }
   ],
   "source": [
    "mostgold = medals.sort_values(by=['Gold'],ascending=False)\n",
    "mostgold.head(10)[['Name','Gold']]"
   ]
  },
  {
   "cell_type": "markdown",
   "metadata": {},
   "source": [
    "### List of players who just lost the Gold more than 3 times in their career. By which I mean, players who have won Silver in that event.\n"
   ]
  },
  {
   "cell_type": "code",
   "execution_count": 257,
   "metadata": {},
   "outputs": [
    {
     "data": {
      "text/html": [
       "<div>\n",
       "<style scoped>\n",
       "    .dataframe tbody tr th:only-of-type {\n",
       "        vertical-align: middle;\n",
       "    }\n",
       "\n",
       "    .dataframe tbody tr th {\n",
       "        vertical-align: top;\n",
       "    }\n",
       "\n",
       "    .dataframe thead th {\n",
       "        text-align: right;\n",
       "    }\n",
       "</style>\n",
       "<table border=\"1\" class=\"dataframe\">\n",
       "  <thead>\n",
       "    <tr style=\"text-align: right;\">\n",
       "      <th></th>\n",
       "      <th>Name</th>\n",
       "      <th>Bronze</th>\n",
       "      <th>Gold</th>\n",
       "      <th>Silver</th>\n",
       "      <th>allmedals</th>\n",
       "    </tr>\n",
       "  </thead>\n",
       "  <tbody>\n",
       "    <tr>\n",
       "      <th>37879</th>\n",
       "      <td>Franziska van Almsick</td>\n",
       "      <td>6</td>\n",
       "      <td>0</td>\n",
       "      <td>4</td>\n",
       "      <td>10</td>\n",
       "    </tr>\n",
       "    <tr>\n",
       "      <th>130225</th>\n",
       "      <td>Yang Yang</td>\n",
       "      <td>2</td>\n",
       "      <td>2</td>\n",
       "      <td>6</td>\n",
       "      <td>10</td>\n",
       "    </tr>\n",
       "    <tr>\n",
       "      <th>88187</th>\n",
       "      <td>Mikhail Yakovlevich Voronin</td>\n",
       "      <td>1</td>\n",
       "      <td>2</td>\n",
       "      <td>6</td>\n",
       "      <td>9</td>\n",
       "    </tr>\n",
       "    <tr>\n",
       "      <th>132337</th>\n",
       "      <td>Yury Yevlampiyevich Titov</td>\n",
       "      <td>3</td>\n",
       "      <td>1</td>\n",
       "      <td>5</td>\n",
       "      <td>9</td>\n",
       "    </tr>\n",
       "    <tr>\n",
       "      <th>7394</th>\n",
       "      <td>Andrea Ehrig-Schne-Mitscherlich</td>\n",
       "      <td>1</td>\n",
       "      <td>1</td>\n",
       "      <td>5</td>\n",
       "      <td>7</td>\n",
       "    </tr>\n",
       "    <tr>\n",
       "      <th>23794</th>\n",
       "      <td>Dagmar Hase</td>\n",
       "      <td>1</td>\n",
       "      <td>1</td>\n",
       "      <td>5</td>\n",
       "      <td>7</td>\n",
       "    </tr>\n",
       "    <tr>\n",
       "      <th>15838</th>\n",
       "      <td>Bogdan Musiol</td>\n",
       "      <td>1</td>\n",
       "      <td>1</td>\n",
       "      <td>5</td>\n",
       "      <td>7</td>\n",
       "    </tr>\n",
       "    <tr>\n",
       "      <th>77102</th>\n",
       "      <td>Lszl Cseh, Jr.</td>\n",
       "      <td>2</td>\n",
       "      <td>0</td>\n",
       "      <td>4</td>\n",
       "      <td>6</td>\n",
       "    </tr>\n",
       "    <tr>\n",
       "      <th>125282</th>\n",
       "      <td>Viktor Nikitovich Lisitsky</td>\n",
       "      <td>0</td>\n",
       "      <td>0</td>\n",
       "      <td>5</td>\n",
       "      <td>5</td>\n",
       "    </tr>\n",
       "    <tr>\n",
       "      <th>87980</th>\n",
       "      <td>Miho Takeda</td>\n",
       "      <td>1</td>\n",
       "      <td>0</td>\n",
       "      <td>4</td>\n",
       "      <td>5</td>\n",
       "    </tr>\n",
       "    <tr>\n",
       "      <th>122815</th>\n",
       "      <td>Tsuyoshi Yamanaka</td>\n",
       "      <td>1</td>\n",
       "      <td>0</td>\n",
       "      <td>4</td>\n",
       "      <td>5</td>\n",
       "    </tr>\n",
       "    <tr>\n",
       "      <th>7025</th>\n",
       "      <td>Anders Sren Holmertz (Johansson-)</td>\n",
       "      <td>1</td>\n",
       "      <td>0</td>\n",
       "      <td>4</td>\n",
       "      <td>5</td>\n",
       "    </tr>\n",
       "    <tr>\n",
       "      <th>33028</th>\n",
       "      <td>Erika Zuchold (Barth-)</td>\n",
       "      <td>1</td>\n",
       "      <td>0</td>\n",
       "      <td>4</td>\n",
       "      <td>5</td>\n",
       "    </tr>\n",
       "    <tr>\n",
       "      <th>89164</th>\n",
       "      <td>Miya Tachibana</td>\n",
       "      <td>1</td>\n",
       "      <td>0</td>\n",
       "      <td>4</td>\n",
       "      <td>5</td>\n",
       "    </tr>\n",
       "    <tr>\n",
       "      <th>53604</th>\n",
       "      <td>Ivica Kosteli</td>\n",
       "      <td>0</td>\n",
       "      <td>0</td>\n",
       "      <td>4</td>\n",
       "      <td>4</td>\n",
       "    </tr>\n",
       "    <tr>\n",
       "      <th>111598</th>\n",
       "      <td>Sarah Kathryn Hammer (-Sparks)</td>\n",
       "      <td>0</td>\n",
       "      <td>0</td>\n",
       "      <td>4</td>\n",
       "      <td>4</td>\n",
       "    </tr>\n",
       "    <tr>\n",
       "      <th>37065</th>\n",
       "      <td>Frank \"Frankie\" Fredericks</td>\n",
       "      <td>0</td>\n",
       "      <td>0</td>\n",
       "      <td>4</td>\n",
       "      <td>4</td>\n",
       "    </tr>\n",
       "    <tr>\n",
       "      <th>50635</th>\n",
       "      <td>Ian David Stark</td>\n",
       "      <td>0</td>\n",
       "      <td>0</td>\n",
       "      <td>4</td>\n",
       "      <td>4</td>\n",
       "    </tr>\n",
       "    <tr>\n",
       "      <th>37311</th>\n",
       "      <td>Frank Wiegand</td>\n",
       "      <td>0</td>\n",
       "      <td>0</td>\n",
       "      <td>4</td>\n",
       "      <td>4</td>\n",
       "    </tr>\n",
       "    <tr>\n",
       "      <th>105115</th>\n",
       "      <td>Renzo Nostini</td>\n",
       "      <td>0</td>\n",
       "      <td>0</td>\n",
       "      <td>4</td>\n",
       "      <td>4</td>\n",
       "    </tr>\n",
       "    <tr>\n",
       "      <th>66769</th>\n",
       "      <td>Kara Lynn Joyce</td>\n",
       "      <td>0</td>\n",
       "      <td>0</td>\n",
       "      <td>4</td>\n",
       "      <td>4</td>\n",
       "    </tr>\n",
       "    <tr>\n",
       "      <th>49179</th>\n",
       "      <td>Hilkka Maria Riihivuori-Kuntola</td>\n",
       "      <td>0</td>\n",
       "      <td>0</td>\n",
       "      <td>4</td>\n",
       "      <td>4</td>\n",
       "    </tr>\n",
       "    <tr>\n",
       "      <th>125673</th>\n",
       "      <td>Vincenzo Pinton</td>\n",
       "      <td>0</td>\n",
       "      <td>0</td>\n",
       "      <td>4</td>\n",
       "      <td>4</td>\n",
       "    </tr>\n",
       "  </tbody>\n",
       "</table>\n",
       "</div>"
      ],
      "text/plain": [
       "                                     Name  Bronze  Gold  Silver  allmedals\n",
       "37879               Franziska van Almsick       6     0       4         10\n",
       "130225                          Yang Yang       2     2       6         10\n",
       "88187         Mikhail Yakovlevich Voronin       1     2       6          9\n",
       "132337          Yury Yevlampiyevich Titov       3     1       5          9\n",
       "7394      Andrea Ehrig-Schne-Mitscherlich       1     1       5          7\n",
       "23794                         Dagmar Hase       1     1       5          7\n",
       "15838                       Bogdan Musiol       1     1       5          7\n",
       "77102                      Lszl Cseh, Jr.       2     0       4          6\n",
       "125282         Viktor Nikitovich Lisitsky       0     0       5          5\n",
       "87980                         Miho Takeda       1     0       4          5\n",
       "122815                  Tsuyoshi Yamanaka       1     0       4          5\n",
       "7025    Anders Sren Holmertz (Johansson-)       1     0       4          5\n",
       "33028              Erika Zuchold (Barth-)       1     0       4          5\n",
       "89164                      Miya Tachibana       1     0       4          5\n",
       "53604                       Ivica Kosteli       0     0       4          4\n",
       "111598     Sarah Kathryn Hammer (-Sparks)       0     0       4          4\n",
       "37065          Frank \"Frankie\" Fredericks       0     0       4          4\n",
       "50635                     Ian David Stark       0     0       4          4\n",
       "37311                       Frank Wiegand       0     0       4          4\n",
       "105115                      Renzo Nostini       0     0       4          4\n",
       "66769                     Kara Lynn Joyce       0     0       4          4\n",
       "49179     Hilkka Maria Riihivuori-Kuntola       0     0       4          4\n",
       "125673                    Vincenzo Pinton       0     0       4          4"
      ]
     },
     "execution_count": 257,
     "metadata": {},
     "output_type": "execute_result"
    }
   ],
   "source": [
    "mostmed[(mostmed.Silver) > (mostmed.Gold + 3)][['Name','Bronze','Gold','Silver','allmedals']]"
   ]
  },
  {
   "cell_type": "markdown",
   "metadata": {},
   "source": [
    "#### Number of people who won Medal but no Gold."
   ]
  },
  {
   "cell_type": "code",
   "execution_count": 261,
   "metadata": {},
   "outputs": [
    {
     "name": "stdout",
     "output_type": "stream",
     "text": [
      "Number of people who won Medal but no Gold --> 2589\n"
     ]
    }
   ],
   "source": [
    "print(\"Number of people who won Medal but no Gold -->\",len(mostmed[((mostmed.Silver) +( mostmed.Bronze) > 1) & (mostmed.Gold == 0)]))"
   ]
  },
  {
   "cell_type": "markdown",
   "metadata": {},
   "source": [
    "#### People who won a mimum of 5 Medals but never a Gold. (Unlucky Atheletes)"
   ]
  },
  {
   "cell_type": "code",
   "execution_count": 266,
   "metadata": {},
   "outputs": [
    {
     "data": {
      "text/html": [
       "<div>\n",
       "<style scoped>\n",
       "    .dataframe tbody tr th:only-of-type {\n",
       "        vertical-align: middle;\n",
       "    }\n",
       "\n",
       "    .dataframe tbody tr th {\n",
       "        vertical-align: top;\n",
       "    }\n",
       "\n",
       "    .dataframe thead th {\n",
       "        text-align: right;\n",
       "    }\n",
       "</style>\n",
       "<table border=\"1\" class=\"dataframe\">\n",
       "  <thead>\n",
       "    <tr style=\"text-align: right;\">\n",
       "      <th></th>\n",
       "      <th>Name</th>\n",
       "      <th>Bronze</th>\n",
       "      <th>Gold</th>\n",
       "      <th>Silver</th>\n",
       "      <th>allmedals</th>\n",
       "    </tr>\n",
       "  </thead>\n",
       "  <tbody>\n",
       "    <tr>\n",
       "      <th>37879</th>\n",
       "      <td>Franziska van Almsick</td>\n",
       "      <td>6</td>\n",
       "      <td>0</td>\n",
       "      <td>4</td>\n",
       "      <td>10</td>\n",
       "    </tr>\n",
       "    <tr>\n",
       "      <th>86301</th>\n",
       "      <td>Merlene Joyce Ottey-Page</td>\n",
       "      <td>6</td>\n",
       "      <td>0</td>\n",
       "      <td>3</td>\n",
       "      <td>9</td>\n",
       "    </tr>\n",
       "    <tr>\n",
       "      <th>107062</th>\n",
       "      <td>Robert Rintje Ritsma</td>\n",
       "      <td>4</td>\n",
       "      <td>0</td>\n",
       "      <td>2</td>\n",
       "      <td>6</td>\n",
       "    </tr>\n",
       "    <tr>\n",
       "      <th>106258</th>\n",
       "      <td>Roald Morel Larsen</td>\n",
       "      <td>4</td>\n",
       "      <td>0</td>\n",
       "      <td>2</td>\n",
       "      <td>6</td>\n",
       "    </tr>\n",
       "    <tr>\n",
       "      <th>46363</th>\n",
       "      <td>Harri Tapani Kirvesniemi</td>\n",
       "      <td>6</td>\n",
       "      <td>0</td>\n",
       "      <td>0</td>\n",
       "      <td>6</td>\n",
       "    </tr>\n",
       "    <tr>\n",
       "      <th>77102</th>\n",
       "      <td>Lszl Cseh, Jr.</td>\n",
       "      <td>2</td>\n",
       "      <td>0</td>\n",
       "      <td>4</td>\n",
       "      <td>6</td>\n",
       "    </tr>\n",
       "    <tr>\n",
       "      <th>36582</th>\n",
       "      <td>Francis Joseph Edmund \"Frank\" De Beaurepaire</td>\n",
       "      <td>3</td>\n",
       "      <td>0</td>\n",
       "      <td>3</td>\n",
       "      <td>6</td>\n",
       "    </tr>\n",
       "    <tr>\n",
       "      <th>101501</th>\n",
       "      <td>Piero D'Inzeo</td>\n",
       "      <td>4</td>\n",
       "      <td>0</td>\n",
       "      <td>2</td>\n",
       "      <td>6</td>\n",
       "    </tr>\n",
       "    <tr>\n",
       "      <th>44309</th>\n",
       "      <td>Gustav Fischer</td>\n",
       "      <td>2</td>\n",
       "      <td>0</td>\n",
       "      <td>3</td>\n",
       "      <td>5</td>\n",
       "    </tr>\n",
       "    <tr>\n",
       "      <th>1385</th>\n",
       "      <td>Adrianus Egbert Willem \"Arie\" de Jong</td>\n",
       "      <td>5</td>\n",
       "      <td>0</td>\n",
       "      <td>0</td>\n",
       "      <td>5</td>\n",
       "    </tr>\n",
       "    <tr>\n",
       "      <th>38498</th>\n",
       "      <td>Fritz Feierabend</td>\n",
       "      <td>2</td>\n",
       "      <td>0</td>\n",
       "      <td>3</td>\n",
       "      <td>5</td>\n",
       "    </tr>\n",
       "    <tr>\n",
       "      <th>67445</th>\n",
       "      <td>Karl Magnus Wegelius</td>\n",
       "      <td>4</td>\n",
       "      <td>0</td>\n",
       "      <td>1</td>\n",
       "      <td>5</td>\n",
       "    </tr>\n",
       "    <tr>\n",
       "      <th>125282</th>\n",
       "      <td>Viktor Nikitovich Lisitsky</td>\n",
       "      <td>0</td>\n",
       "      <td>0</td>\n",
       "      <td>5</td>\n",
       "      <td>5</td>\n",
       "    </tr>\n",
       "    <tr>\n",
       "      <th>35464</th>\n",
       "      <td>Fernand Alphonse Marie Frdric de Montigny</td>\n",
       "      <td>3</td>\n",
       "      <td>0</td>\n",
       "      <td>2</td>\n",
       "      <td>5</td>\n",
       "    </tr>\n",
       "    <tr>\n",
       "      <th>87980</th>\n",
       "      <td>Miho Takeda</td>\n",
       "      <td>1</td>\n",
       "      <td>0</td>\n",
       "      <td>4</td>\n",
       "      <td>5</td>\n",
       "    </tr>\n",
       "    <tr>\n",
       "      <th>26357</th>\n",
       "      <td>Denis Mikhaylovich Ablyazin</td>\n",
       "      <td>2</td>\n",
       "      <td>0</td>\n",
       "      <td>3</td>\n",
       "      <td>5</td>\n",
       "    </tr>\n",
       "    <tr>\n",
       "      <th>101095</th>\n",
       "      <td>Philip Aron \"Phil\" Edwards</td>\n",
       "      <td>5</td>\n",
       "      <td>0</td>\n",
       "      <td>0</td>\n",
       "      <td>5</td>\n",
       "    </tr>\n",
       "    <tr>\n",
       "      <th>10275</th>\n",
       "      <td>Antje Buschschulte (-Meeuw)</td>\n",
       "      <td>5</td>\n",
       "      <td>0</td>\n",
       "      <td>0</td>\n",
       "      <td>5</td>\n",
       "    </tr>\n",
       "    <tr>\n",
       "      <th>99708</th>\n",
       "      <td>Per Fredric Landelius</td>\n",
       "      <td>2</td>\n",
       "      <td>0</td>\n",
       "      <td>3</td>\n",
       "      <td>5</td>\n",
       "    </tr>\n",
       "    <tr>\n",
       "      <th>122815</th>\n",
       "      <td>Tsuyoshi Yamanaka</td>\n",
       "      <td>1</td>\n",
       "      <td>0</td>\n",
       "      <td>4</td>\n",
       "      <td>5</td>\n",
       "    </tr>\n",
       "    <tr>\n",
       "      <th>7025</th>\n",
       "      <td>Anders Sren Holmertz (Johansson-)</td>\n",
       "      <td>1</td>\n",
       "      <td>0</td>\n",
       "      <td>4</td>\n",
       "      <td>5</td>\n",
       "    </tr>\n",
       "    <tr>\n",
       "      <th>75164</th>\n",
       "      <td>Li Jiajun</td>\n",
       "      <td>3</td>\n",
       "      <td>0</td>\n",
       "      <td>2</td>\n",
       "      <td>5</td>\n",
       "    </tr>\n",
       "    <tr>\n",
       "      <th>11299</th>\n",
       "      <td>Arianna Fontana</td>\n",
       "      <td>4</td>\n",
       "      <td>0</td>\n",
       "      <td>1</td>\n",
       "      <td>5</td>\n",
       "    </tr>\n",
       "    <tr>\n",
       "      <th>33028</th>\n",
       "      <td>Erika Zuchold (Barth-)</td>\n",
       "      <td>1</td>\n",
       "      <td>0</td>\n",
       "      <td>4</td>\n",
       "      <td>5</td>\n",
       "    </tr>\n",
       "    <tr>\n",
       "      <th>9051</th>\n",
       "      <td>Anita Moen-Guidon (-Moen Bonden)</td>\n",
       "      <td>2</td>\n",
       "      <td>0</td>\n",
       "      <td>3</td>\n",
       "      <td>5</td>\n",
       "    </tr>\n",
       "    <tr>\n",
       "      <th>42003</th>\n",
       "      <td>Gina Elena Gogean (-Groza)</td>\n",
       "      <td>3</td>\n",
       "      <td>0</td>\n",
       "      <td>2</td>\n",
       "      <td>5</td>\n",
       "    </tr>\n",
       "    <tr>\n",
       "      <th>128760</th>\n",
       "      <td>William G. Merz</td>\n",
       "      <td>4</td>\n",
       "      <td>0</td>\n",
       "      <td>1</td>\n",
       "      <td>5</td>\n",
       "    </tr>\n",
       "    <tr>\n",
       "      <th>31675</th>\n",
       "      <td>Emil Edvin Wide (Hermansson-)</td>\n",
       "      <td>4</td>\n",
       "      <td>0</td>\n",
       "      <td>1</td>\n",
       "      <td>5</td>\n",
       "    </tr>\n",
       "    <tr>\n",
       "      <th>50110</th>\n",
       "      <td>Huang Xuechen</td>\n",
       "      <td>2</td>\n",
       "      <td>0</td>\n",
       "      <td>3</td>\n",
       "      <td>5</td>\n",
       "    </tr>\n",
       "    <tr>\n",
       "      <th>2002</th>\n",
       "      <td>Aino-Kaisa Saarinen</td>\n",
       "      <td>3</td>\n",
       "      <td>0</td>\n",
       "      <td>2</td>\n",
       "      <td>5</td>\n",
       "    </tr>\n",
       "    <tr>\n",
       "      <th>89164</th>\n",
       "      <td>Miya Tachibana</td>\n",
       "      <td>1</td>\n",
       "      <td>0</td>\n",
       "      <td>4</td>\n",
       "      <td>5</td>\n",
       "    </tr>\n",
       "    <tr>\n",
       "      <th>134513</th>\n",
       "      <td>sten stensen</td>\n",
       "      <td>2</td>\n",
       "      <td>0</td>\n",
       "      <td>3</td>\n",
       "      <td>5</td>\n",
       "    </tr>\n",
       "  </tbody>\n",
       "</table>\n",
       "</div>"
      ],
      "text/plain": [
       "                                                Name  Bronze  Gold  Silver  \\\n",
       "37879                          Franziska van Almsick       6     0       4   \n",
       "86301                       Merlene Joyce Ottey-Page       6     0       3   \n",
       "107062                          Robert Rintje Ritsma       4     0       2   \n",
       "106258                            Roald Morel Larsen       4     0       2   \n",
       "46363                       Harri Tapani Kirvesniemi       6     0       0   \n",
       "77102                                 Lszl Cseh, Jr.       2     0       4   \n",
       "36582   Francis Joseph Edmund \"Frank\" De Beaurepaire       3     0       3   \n",
       "101501                                 Piero D'Inzeo       4     0       2   \n",
       "44309                                 Gustav Fischer       2     0       3   \n",
       "1385           Adrianus Egbert Willem \"Arie\" de Jong       5     0       0   \n",
       "38498                               Fritz Feierabend       2     0       3   \n",
       "67445                           Karl Magnus Wegelius       4     0       1   \n",
       "125282                    Viktor Nikitovich Lisitsky       0     0       5   \n",
       "35464      Fernand Alphonse Marie Frdric de Montigny       3     0       2   \n",
       "87980                                    Miho Takeda       1     0       4   \n",
       "26357                    Denis Mikhaylovich Ablyazin       2     0       3   \n",
       "101095                    Philip Aron \"Phil\" Edwards       5     0       0   \n",
       "10275                    Antje Buschschulte (-Meeuw)       5     0       0   \n",
       "99708                          Per Fredric Landelius       2     0       3   \n",
       "122815                             Tsuyoshi Yamanaka       1     0       4   \n",
       "7025               Anders Sren Holmertz (Johansson-)       1     0       4   \n",
       "75164                                      Li Jiajun       3     0       2   \n",
       "11299                                Arianna Fontana       4     0       1   \n",
       "33028                         Erika Zuchold (Barth-)       1     0       4   \n",
       "9051                Anita Moen-Guidon (-Moen Bonden)       2     0       3   \n",
       "42003                     Gina Elena Gogean (-Groza)       3     0       2   \n",
       "128760                               William G. Merz       4     0       1   \n",
       "31675                  Emil Edvin Wide (Hermansson-)       4     0       1   \n",
       "50110                                  Huang Xuechen       2     0       3   \n",
       "2002                             Aino-Kaisa Saarinen       3     0       2   \n",
       "89164                                 Miya Tachibana       1     0       4   \n",
       "134513                                  sten stensen       2     0       3   \n",
       "\n",
       "        allmedals  \n",
       "37879          10  \n",
       "86301           9  \n",
       "107062          6  \n",
       "106258          6  \n",
       "46363           6  \n",
       "77102           6  \n",
       "36582           6  \n",
       "101501          6  \n",
       "44309           5  \n",
       "1385            5  \n",
       "38498           5  \n",
       "67445           5  \n",
       "125282          5  \n",
       "35464           5  \n",
       "87980           5  \n",
       "26357           5  \n",
       "101095          5  \n",
       "10275           5  \n",
       "99708           5  \n",
       "122815          5  \n",
       "7025            5  \n",
       "75164           5  \n",
       "11299           5  \n",
       "33028           5  \n",
       "9051            5  \n",
       "42003           5  \n",
       "128760          5  \n",
       "31675           5  \n",
       "50110           5  \n",
       "2002            5  \n",
       "89164           5  \n",
       "134513          5  "
      ]
     },
     "execution_count": 266,
     "metadata": {},
     "output_type": "execute_result"
    }
   ],
   "source": [
    "mostmed[((mostmed.Silver) +( mostmed.Bronze) >= 5 ) & (mostmed.Gold == 0)][['Name','Bronze','Gold','Silver','allmedals']]"
   ]
  },
  {
   "cell_type": "markdown",
   "metadata": {},
   "source": [
    "#### What? Franziska van Almsick has won 10 medals but it was never a Gold."
   ]
  },
  {
   "cell_type": "code",
   "execution_count": 267,
   "metadata": {},
   "outputs": [
    {
     "data": {
      "text/html": [
       "<div>\n",
       "<style scoped>\n",
       "    .dataframe tbody tr th:only-of-type {\n",
       "        vertical-align: middle;\n",
       "    }\n",
       "\n",
       "    .dataframe tbody tr th {\n",
       "        vertical-align: top;\n",
       "    }\n",
       "\n",
       "    .dataframe thead th {\n",
       "        text-align: right;\n",
       "    }\n",
       "</style>\n",
       "<table border=\"1\" class=\"dataframe\">\n",
       "  <thead>\n",
       "    <tr style=\"text-align: right;\">\n",
       "      <th></th>\n",
       "      <th>Name</th>\n",
       "      <th>Sex</th>\n",
       "      <th>Age</th>\n",
       "      <th>Team</th>\n",
       "      <th>Sport</th>\n",
       "    </tr>\n",
       "  </thead>\n",
       "  <tbody>\n",
       "    <tr>\n",
       "      <th>247932</th>\n",
       "      <td>Franziska van Almsick</td>\n",
       "      <td>F</td>\n",
       "      <td>14.0</td>\n",
       "      <td>Germany</td>\n",
       "      <td>Swimming</td>\n",
       "    </tr>\n",
       "  </tbody>\n",
       "</table>\n",
       "</div>"
      ],
      "text/plain": [
       "                         Name Sex   Age     Team     Sport\n",
       "247932  Franziska van Almsick   F  14.0  Germany  Swimming"
      ]
     },
     "execution_count": 267,
     "metadata": {},
     "output_type": "execute_result"
    }
   ],
   "source": [
    "df[df.Name ==  'Franziska van Almsick'].head(1)[['Name','Sex','Age','Team','Sport']]"
   ]
  },
  {
   "cell_type": "markdown",
   "metadata": {},
   "source": [
    "###### Can I call her the most unluckiest Olympic player ever? Thoughts?"
   ]
  },
  {
   "cell_type": "markdown",
   "metadata": {},
   "source": [
    "### Youngest player to participate in olympics."
   ]
  },
  {
   "cell_type": "code",
   "execution_count": 269,
   "metadata": {},
   "outputs": [
    {
     "data": {
      "text/html": [
       "<div>\n",
       "<style scoped>\n",
       "    .dataframe tbody tr th:only-of-type {\n",
       "        vertical-align: middle;\n",
       "    }\n",
       "\n",
       "    .dataframe tbody tr th {\n",
       "        vertical-align: top;\n",
       "    }\n",
       "\n",
       "    .dataframe thead th {\n",
       "        text-align: right;\n",
       "    }\n",
       "</style>\n",
       "<table border=\"1\" class=\"dataframe\">\n",
       "  <thead>\n",
       "    <tr style=\"text-align: right;\">\n",
       "      <th></th>\n",
       "      <th>ID</th>\n",
       "      <th>Name</th>\n",
       "      <th>Sex</th>\n",
       "      <th>Age</th>\n",
       "      <th>Height</th>\n",
       "      <th>Weight</th>\n",
       "      <th>Team</th>\n",
       "      <th>NOC</th>\n",
       "      <th>Games</th>\n",
       "      <th>Year</th>\n",
       "      <th>Season</th>\n",
       "      <th>City</th>\n",
       "      <th>Sport</th>\n",
       "      <th>Event</th>\n",
       "      <th>Medal</th>\n",
       "      <th>Bronze</th>\n",
       "      <th>Gold</th>\n",
       "      <th>Silver</th>\n",
       "      <th>allmedals</th>\n",
       "    </tr>\n",
       "  </thead>\n",
       "  <tbody>\n",
       "    <tr>\n",
       "      <th>142882</th>\n",
       "      <td>71691</td>\n",
       "      <td>Dimitrios Loundras</td>\n",
       "      <td>M</td>\n",
       "      <td>10.0</td>\n",
       "      <td>NaN</td>\n",
       "      <td>NaN</td>\n",
       "      <td>Ethnikos Gymnastikos Syllogos</td>\n",
       "      <td>GRE</td>\n",
       "      <td>1896 Summer</td>\n",
       "      <td>1896</td>\n",
       "      <td>Summer</td>\n",
       "      <td>Athina</td>\n",
       "      <td>Gymnastics</td>\n",
       "      <td>Gymnastics Men's Parallel Bars, Teams</td>\n",
       "      <td>Bronze</td>\n",
       "      <td>1</td>\n",
       "      <td>0</td>\n",
       "      <td>0</td>\n",
       "      <td>1</td>\n",
       "    </tr>\n",
       "  </tbody>\n",
       "</table>\n",
       "</div>"
      ],
      "text/plain": [
       "           ID                Name Sex   Age  Height  Weight  \\\n",
       "142882  71691  Dimitrios Loundras   M  10.0     NaN     NaN   \n",
       "\n",
       "                                 Team  NOC        Games  Year  Season    City  \\\n",
       "142882  Ethnikos Gymnastikos Syllogos  GRE  1896 Summer  1896  Summer  Athina   \n",
       "\n",
       "             Sport                                  Event   Medal  Bronze  \\\n",
       "142882  Gymnastics  Gymnastics Men's Parallel Bars, Teams  Bronze       1   \n",
       "\n",
       "        Gold  Silver  allmedals  \n",
       "142882     0       0          1  "
      ]
     },
     "execution_count": 269,
     "metadata": {},
     "output_type": "execute_result"
    }
   ],
   "source": [
    "df[df.Age ==df.Age.min()]"
   ]
  },
  {
   "cell_type": "markdown",
   "metadata": {},
   "source": [
    "Gosh, he particiapted in Olympics at age of 10? LOl! Imagine what we were doing at age 10.\n",
    "###### He also won a Medal in that. Which also makes him the Youngest to win a Medal in olympics."
   ]
  },
  {
   "cell_type": "markdown",
   "metadata": {},
   "source": [
    "### Oldest player to participate in olympics."
   ]
  },
  {
   "cell_type": "code",
   "execution_count": 270,
   "metadata": {},
   "outputs": [
    {
     "data": {
      "text/html": [
       "<div>\n",
       "<style scoped>\n",
       "    .dataframe tbody tr th:only-of-type {\n",
       "        vertical-align: middle;\n",
       "    }\n",
       "\n",
       "    .dataframe tbody tr th {\n",
       "        vertical-align: top;\n",
       "    }\n",
       "\n",
       "    .dataframe thead th {\n",
       "        text-align: right;\n",
       "    }\n",
       "</style>\n",
       "<table border=\"1\" class=\"dataframe\">\n",
       "  <thead>\n",
       "    <tr style=\"text-align: right;\">\n",
       "      <th></th>\n",
       "      <th>ID</th>\n",
       "      <th>Name</th>\n",
       "      <th>Sex</th>\n",
       "      <th>Age</th>\n",
       "      <th>Height</th>\n",
       "      <th>Weight</th>\n",
       "      <th>Team</th>\n",
       "      <th>NOC</th>\n",
       "      <th>Games</th>\n",
       "      <th>Year</th>\n",
       "      <th>Season</th>\n",
       "      <th>City</th>\n",
       "      <th>Sport</th>\n",
       "      <th>Event</th>\n",
       "      <th>Medal</th>\n",
       "      <th>Bronze</th>\n",
       "      <th>Gold</th>\n",
       "      <th>Silver</th>\n",
       "      <th>allmedals</th>\n",
       "    </tr>\n",
       "  </thead>\n",
       "  <tbody>\n",
       "    <tr>\n",
       "      <th>257054</th>\n",
       "      <td>128719</td>\n",
       "      <td>John Quincy Adams Ward</td>\n",
       "      <td>M</td>\n",
       "      <td>97.0</td>\n",
       "      <td>NaN</td>\n",
       "      <td>NaN</td>\n",
       "      <td>United States</td>\n",
       "      <td>USA</td>\n",
       "      <td>1928 Summer</td>\n",
       "      <td>1928</td>\n",
       "      <td>Summer</td>\n",
       "      <td>Amsterdam</td>\n",
       "      <td>Art Competitions</td>\n",
       "      <td>Art Competitions Mixed Sculpturing, Statues</td>\n",
       "      <td>NaN</td>\n",
       "      <td>0</td>\n",
       "      <td>0</td>\n",
       "      <td>0</td>\n",
       "      <td>0</td>\n",
       "    </tr>\n",
       "  </tbody>\n",
       "</table>\n",
       "</div>"
      ],
      "text/plain": [
       "            ID                    Name Sex   Age  Height  Weight  \\\n",
       "257054  128719  John Quincy Adams Ward   M  97.0     NaN     NaN   \n",
       "\n",
       "                 Team  NOC        Games  Year  Season       City  \\\n",
       "257054  United States  USA  1928 Summer  1928  Summer  Amsterdam   \n",
       "\n",
       "                   Sport                                        Event Medal  \\\n",
       "257054  Art Competitions  Art Competitions Mixed Sculpturing, Statues   NaN   \n",
       "\n",
       "        Bronze  Gold  Silver  allmedals  \n",
       "257054       0     0       0          0  "
      ]
     },
     "execution_count": 270,
     "metadata": {},
     "output_type": "execute_result"
    }
   ],
   "source": [
    "df[df.Age ==df.Age.max()]"
   ]
  },
  {
   "cell_type": "markdown",
   "metadata": {},
   "source": [
    "#### WHAT? really? at age 97? \n",
    "No actually, he died at age of 79(1910), his work*Art) was submitted in 1928 olympics. Not COOL, i dont count this.\n",
    "#### Lets remove art competitions out of league."
   ]
  },
  {
   "cell_type": "code",
   "execution_count": 271,
   "metadata": {},
   "outputs": [],
   "source": [
    "dfnoart = df[df.Sport !='Art Competitions']"
   ]
  },
  {
   "cell_type": "code",
   "execution_count": 274,
   "metadata": {},
   "outputs": [
    {
     "data": {
      "text/html": [
       "<div>\n",
       "<style scoped>\n",
       "    .dataframe tbody tr th:only-of-type {\n",
       "        vertical-align: middle;\n",
       "    }\n",
       "\n",
       "    .dataframe tbody tr th {\n",
       "        vertical-align: top;\n",
       "    }\n",
       "\n",
       "    .dataframe thead th {\n",
       "        text-align: right;\n",
       "    }\n",
       "</style>\n",
       "<table border=\"1\" class=\"dataframe\">\n",
       "  <thead>\n",
       "    <tr style=\"text-align: right;\">\n",
       "      <th></th>\n",
       "      <th>ID</th>\n",
       "      <th>Name</th>\n",
       "      <th>Sex</th>\n",
       "      <th>Age</th>\n",
       "      <th>Height</th>\n",
       "      <th>Weight</th>\n",
       "      <th>Team</th>\n",
       "      <th>NOC</th>\n",
       "      <th>Games</th>\n",
       "      <th>Year</th>\n",
       "      <th>Season</th>\n",
       "      <th>City</th>\n",
       "      <th>Sport</th>\n",
       "      <th>Event</th>\n",
       "      <th>Medal</th>\n",
       "      <th>Bronze</th>\n",
       "      <th>Gold</th>\n",
       "      <th>Silver</th>\n",
       "      <th>allmedals</th>\n",
       "    </tr>\n",
       "  </thead>\n",
       "  <tbody>\n",
       "    <tr>\n",
       "      <th>233393</th>\n",
       "      <td>117046</td>\n",
       "      <td>Oscar Gomer Swahn</td>\n",
       "      <td>M</td>\n",
       "      <td>72.0</td>\n",
       "      <td>NaN</td>\n",
       "      <td>NaN</td>\n",
       "      <td>Sweden</td>\n",
       "      <td>SWE</td>\n",
       "      <td>1920 Summer</td>\n",
       "      <td>1920</td>\n",
       "      <td>Summer</td>\n",
       "      <td>Antwerpen</td>\n",
       "      <td>Shooting</td>\n",
       "      <td>Shooting Men's Running Target, Single Shot</td>\n",
       "      <td>NaN</td>\n",
       "      <td>0</td>\n",
       "      <td>0</td>\n",
       "      <td>0</td>\n",
       "      <td>0</td>\n",
       "    </tr>\n",
       "    <tr>\n",
       "      <th>233394</th>\n",
       "      <td>117046</td>\n",
       "      <td>Oscar Gomer Swahn</td>\n",
       "      <td>M</td>\n",
       "      <td>72.0</td>\n",
       "      <td>NaN</td>\n",
       "      <td>NaN</td>\n",
       "      <td>Sweden</td>\n",
       "      <td>SWE</td>\n",
       "      <td>1920 Summer</td>\n",
       "      <td>1920</td>\n",
       "      <td>Summer</td>\n",
       "      <td>Antwerpen</td>\n",
       "      <td>Shooting</td>\n",
       "      <td>Shooting Men's Running Target, Single Shot, Team</td>\n",
       "      <td>NaN</td>\n",
       "      <td>0</td>\n",
       "      <td>0</td>\n",
       "      <td>0</td>\n",
       "      <td>0</td>\n",
       "    </tr>\n",
       "    <tr>\n",
       "      <th>233395</th>\n",
       "      <td>117046</td>\n",
       "      <td>Oscar Gomer Swahn</td>\n",
       "      <td>M</td>\n",
       "      <td>72.0</td>\n",
       "      <td>NaN</td>\n",
       "      <td>NaN</td>\n",
       "      <td>Sweden</td>\n",
       "      <td>SWE</td>\n",
       "      <td>1920 Summer</td>\n",
       "      <td>1920</td>\n",
       "      <td>Summer</td>\n",
       "      <td>Antwerpen</td>\n",
       "      <td>Shooting</td>\n",
       "      <td>Shooting Men's Running Target, Double Shot, Team</td>\n",
       "      <td>Silver</td>\n",
       "      <td>0</td>\n",
       "      <td>0</td>\n",
       "      <td>1</td>\n",
       "      <td>1</td>\n",
       "    </tr>\n",
       "    <tr>\n",
       "      <th>254475</th>\n",
       "      <td>127395</td>\n",
       "      <td>Arthur von Pongracz de Szent-Mikls und vr</td>\n",
       "      <td>M</td>\n",
       "      <td>72.0</td>\n",
       "      <td>NaN</td>\n",
       "      <td>NaN</td>\n",
       "      <td>Austria</td>\n",
       "      <td>AUT</td>\n",
       "      <td>1936 Summer</td>\n",
       "      <td>1936</td>\n",
       "      <td>Summer</td>\n",
       "      <td>Berlin</td>\n",
       "      <td>Equestrianism</td>\n",
       "      <td>Equestrianism Men's Dressage, Individual</td>\n",
       "      <td>NaN</td>\n",
       "      <td>0</td>\n",
       "      <td>0</td>\n",
       "      <td>0</td>\n",
       "      <td>0</td>\n",
       "    </tr>\n",
       "    <tr>\n",
       "      <th>254476</th>\n",
       "      <td>127395</td>\n",
       "      <td>Arthur von Pongracz de Szent-Mikls und vr</td>\n",
       "      <td>M</td>\n",
       "      <td>72.0</td>\n",
       "      <td>NaN</td>\n",
       "      <td>NaN</td>\n",
       "      <td>Austria</td>\n",
       "      <td>AUT</td>\n",
       "      <td>1936 Summer</td>\n",
       "      <td>1936</td>\n",
       "      <td>Summer</td>\n",
       "      <td>Berlin</td>\n",
       "      <td>Equestrianism</td>\n",
       "      <td>Equestrianism Men's Dressage, Team</td>\n",
       "      <td>NaN</td>\n",
       "      <td>0</td>\n",
       "      <td>0</td>\n",
       "      <td>0</td>\n",
       "      <td>0</td>\n",
       "    </tr>\n",
       "  </tbody>\n",
       "</table>\n",
       "</div>"
      ],
      "text/plain": [
       "            ID                                       Name Sex   Age  Height  \\\n",
       "233393  117046                          Oscar Gomer Swahn   M  72.0     NaN   \n",
       "233394  117046                          Oscar Gomer Swahn   M  72.0     NaN   \n",
       "233395  117046                          Oscar Gomer Swahn   M  72.0     NaN   \n",
       "254475  127395  Arthur von Pongracz de Szent-Mikls und vr   M  72.0     NaN   \n",
       "254476  127395  Arthur von Pongracz de Szent-Mikls und vr   M  72.0     NaN   \n",
       "\n",
       "        Weight     Team  NOC        Games  Year  Season       City  \\\n",
       "233393     NaN   Sweden  SWE  1920 Summer  1920  Summer  Antwerpen   \n",
       "233394     NaN   Sweden  SWE  1920 Summer  1920  Summer  Antwerpen   \n",
       "233395     NaN   Sweden  SWE  1920 Summer  1920  Summer  Antwerpen   \n",
       "254475     NaN  Austria  AUT  1936 Summer  1936  Summer     Berlin   \n",
       "254476     NaN  Austria  AUT  1936 Summer  1936  Summer     Berlin   \n",
       "\n",
       "                Sport                                             Event  \\\n",
       "233393       Shooting        Shooting Men's Running Target, Single Shot   \n",
       "233394       Shooting  Shooting Men's Running Target, Single Shot, Team   \n",
       "233395       Shooting  Shooting Men's Running Target, Double Shot, Team   \n",
       "254475  Equestrianism          Equestrianism Men's Dressage, Individual   \n",
       "254476  Equestrianism                Equestrianism Men's Dressage, Team   \n",
       "\n",
       "         Medal  Bronze  Gold  Silver  allmedals  \n",
       "233393     NaN       0     0       0          0  \n",
       "233394     NaN       0     0       0          0  \n",
       "233395  Silver       0     0       1          1  \n",
       "254475     NaN       0     0       0          0  \n",
       "254476     NaN       0     0       0          0  "
      ]
     },
     "execution_count": 274,
     "metadata": {},
     "output_type": "execute_result"
    }
   ],
   "source": [
    "dfnoart[dfnoart.Age ==dfnoart.Age.max()]"
   ]
  },
  {
   "cell_type": "markdown",
   "metadata": {},
   "source": [
    "### These two are the oldest dudes to participate ever in Olympics.\n",
    " Ohh wait! Oscar gomer won a silver. Sweet! Silver in shooting@ 72 YEARS.\n",
    "#### Which also makes Oscar Gomer Swahn the Oldest Player to win a Medal."
   ]
  },
  {
   "cell_type": "markdown",
   "metadata": {},
   "source": [
    "# Players with highest success rates.\n",
    "- Add new column count.\n",
    "- Groupby ID or Name.\n",
    "- Calculate the success rate (Medals won / count of appearances)."
   ]
  },
  {
   "cell_type": "code",
   "execution_count": 325,
   "metadata": {},
   "outputs": [],
   "source": [
    "df['countnum'] = 1\n",
    "succgrp = df.groupby('Name',as_index=False).sum()"
   ]
  },
  {
   "cell_type": "code",
   "execution_count": 326,
   "metadata": {},
   "outputs": [],
   "source": [
    "succgrp['rate']  = succgrp['allmedals']/succgrp['countnum']\n",
    "succgrp =succgrp.sort_values('rate',ascending = False)"
   ]
  },
  {
   "cell_type": "markdown",
   "metadata": {},
   "source": [
    "### Players who participated in an event a minimum of 5 times and won medal each time they participated in an event."
   ]
  },
  {
   "cell_type": "code",
   "execution_count": 327,
   "metadata": {},
   "outputs": [
    {
     "data": {
      "text/plain": [
       "{'Aaron Wells Peirsol',\n",
       " 'Danuta Kozk',\n",
       " 'Doina Ignat',\n",
       " 'Donald Arthur \"Don\" Schollander',\n",
       " 'Eugenio Monti',\n",
       " 'Frederick Carlton \"Carl\" Lewis',\n",
       " 'Gary Wayne Hall, Jr.',\n",
       " 'Iain Murray Rose',\n",
       " 'Isabelle Regina Werth',\n",
       " 'Jason Francis Kenny',\n",
       " 'John Frederick Hencken',\n",
       " 'Kathleen Genevieve \"Katie\" Ledecky',\n",
       " 'Kim Su-Nyeong',\n",
       " 'Kornelia Ender (-Matthes, -Grummt)',\n",
       " 'Kristin Otto',\n",
       " 'Lucien Alphonse Paul Gaudin',\n",
       " 'Maria Valentina Vezzali',\n",
       " 'Mariya Kindrativna Horokhovska',\n",
       " 'Matthew \"Matt\" Grevers',\n",
       " 'Natalie Anne Coughlin (-Hall)',\n",
       " 'Nathan Ghar-Jun Adrian',\n",
       " 'Paavo Johannes Nurmi',\n",
       " 'Raymond Clarence \"Ray\" Ewry',\n",
       " 'Rdiger Helm',\n",
       " 'Rebecca Soni',\n",
       " 'Renate Stecher (Meiner-)',\n",
       " 'Rudolf Krpti',\n",
       " 'Stephen Geoffrey \"Steven\" Redgrave',\n",
       " 'Thomas Michael \"Tom\" Jager',\n",
       " 'Tirunesh Dibaba Keneni',\n",
       " 'Viktor Aleksandrovich Sidyak',\n",
       " 'Viorica Daniela Siliva (-Harper)',\n",
       " 'Wolfgang Hoppe',\n",
       " 'Wu Minxia',\n",
       " 'Zoltn Imre dn von Halmay'}"
      ]
     },
     "execution_count": 327,
     "metadata": {},
     "output_type": "execute_result"
    }
   ],
   "source": [
    "succgrp1 = succgrp[succgrp['countnum'] > 5]\n",
    "set(succgrp1[succgrp1['rate'] == 1.0]['Name'])"
   ]
  },
  {
   "cell_type": "markdown",
   "metadata": {},
   "source": [
    "### LEGENDS !!! I SAY! 100% Success rate bruh!!"
   ]
  },
  {
   "cell_type": "markdown",
   "metadata": {},
   "source": [
    "### Wondering why there is no Micheal phelps name in this list? \n",
    "Well, he is legend who have 28 medals out of 30 events he participated, which means he has a success rate of 28/30 = 93%.\n",
    "##### I'm only considering people with 100% hit rate."
   ]
  },
  {
   "cell_type": "markdown",
   "metadata": {},
   "source": [
    "## People who won Gold in each event they participated a minimum of 4 occasions."
   ]
  },
  {
   "cell_type": "code",
   "execution_count": 329,
   "metadata": {},
   "outputs": [
    {
     "name": "stdout",
     "output_type": "stream",
     "text": [
      "Svetlana Alekseyevna Romashina\n",
      "Raymond Clarence \"Ray\" Ewry\n",
      "Chen Ruolin\n",
      "Morris \"Bud\" Fisher\n",
      "Nataliya Sergeyevna Ishchenko\n",
      "Rudolf Krpti\n",
      "Stephen Edward \"Steve\" Clark\n",
      "Kristin Otto\n",
      "Anastasiya Semyonovna Davydova\n"
     ]
    }
   ],
   "source": [
    "succgrp2 = succgrp[succgrp['countnum'] > 4]\n",
    "for i in range(len(succgrp2)):\n",
    "    if (succgrp2.iloc[i].Gold ==  succgrp2.iloc[i]['countnum']):\n",
    "        print(succgrp2.iloc[i].Name)"
   ]
  },
  {
   "cell_type": "markdown",
   "metadata": {},
   "source": [
    "## Ever heard of word 'ULTRA LEGENDS !'."
   ]
  },
  {
   "cell_type": "markdown",
   "metadata": {},
   "source": [
    "# <font color ='red'> STATS OF __INDIA__ </font>\n",
    "- Create a new dataframe with only INDIA records."
   ]
  },
  {
   "cell_type": "code",
   "execution_count": 330,
   "metadata": {},
   "outputs": [],
   "source": [
    "dfindia = df[df.NOC == 'IND']"
   ]
  },
  {
   "cell_type": "markdown",
   "metadata": {},
   "source": [
    "### The years india participated in Olympics\n"
   ]
  },
  {
   "cell_type": "code",
   "execution_count": 335,
   "metadata": {},
   "outputs": [
    {
     "data": {
      "text/plain": [
       "[1900,\n",
       " 1920,\n",
       " 1924,\n",
       " 1928,\n",
       " 1932,\n",
       " 1936,\n",
       " 1948,\n",
       " 1952,\n",
       " 1956,\n",
       " 1960,\n",
       " 1964,\n",
       " 1968,\n",
       " 1972,\n",
       " 1976,\n",
       " 1980,\n",
       " 1984,\n",
       " 1988,\n",
       " 1992,\n",
       " 1996,\n",
       " 1998,\n",
       " 2000,\n",
       " 2002,\n",
       " 2004,\n",
       " 2006,\n",
       " 2008,\n",
       " 2010,\n",
       " 2012,\n",
       " 2014,\n",
       " 2016]"
      ]
     },
     "execution_count": 335,
     "metadata": {},
     "output_type": "execute_result"
    }
   ],
   "source": [
    "sorted(dfindia.Year.unique())"
   ]
  },
  {
   "cell_type": "markdown",
   "metadata": {},
   "source": [
    "# Number of Medals India Won so far."
   ]
  },
  {
   "cell_type": "code",
   "execution_count": 338,
   "metadata": {},
   "outputs": [
    {
     "name": "stdout",
     "output_type": "stream",
     "text": [
      "Total number of all Medals India won 197\n"
     ]
    }
   ],
   "source": [
    "print(\"Total number of all Medals India won\", dfindia['allmedals'].sum())"
   ]
  },
  {
   "cell_type": "markdown",
   "metadata": {},
   "source": [
    "- But, Keep in mind that 197 medals are the medals every player won either solo or in group.But, the group event medals should be considered as only one medal. According to Olympics.\n",
    "- Example: If a team won a medal in football, which has 11 players (5+ sub players), wher each will be awarded a medal, but as per olympics it is considered as only one medal. \n",
    "- So, lets group them by Year and Event."
   ]
  },
  {
   "cell_type": "code",
   "execution_count": 368,
   "metadata": {
    "scrolled": true
   },
   "outputs": [
    {
     "data": {
      "text/plain": [
       "29"
      ]
     },
     "execution_count": 368,
     "metadata": {},
     "output_type": "execute_result"
    }
   ],
   "source": [
    "dfindia.groupby(['Year','Event'],as_index=False).max()['allmedals'].sum()"
   ]
  },
  {
   "cell_type": "markdown",
   "metadata": {},
   "source": [
    "### Number of Olympics medals india has 29.\n",
    "## BUT WAIT.\n",
    "- Olympic committe says India has 28 medals, I google ans searched verywhere to find that india has 28 medals, but our analysis says we have 29.\n",
    "- Well, we have won a medal in Alpinism in 1924 winter olympics as per the data I have. But it is no where mentioned in google.\n",
    "- https://en.wikipedia.org/wiki/1924_Winter_Olympics Says that India was not even participated in that olympics.\n",
    "## What the hell? Can someone explain why this medal was not considered."
   ]
  },
  {
   "cell_type": "code",
   "execution_count": 370,
   "metadata": {},
   "outputs": [
    {
     "data": {
      "text/html": [
       "<div>\n",
       "<style scoped>\n",
       "    .dataframe tbody tr th:only-of-type {\n",
       "        vertical-align: middle;\n",
       "    }\n",
       "\n",
       "    .dataframe tbody tr th {\n",
       "        vertical-align: top;\n",
       "    }\n",
       "\n",
       "    .dataframe thead th {\n",
       "        text-align: right;\n",
       "    }\n",
       "</style>\n",
       "<table border=\"1\" class=\"dataframe\">\n",
       "  <thead>\n",
       "    <tr style=\"text-align: right;\">\n",
       "      <th></th>\n",
       "      <th>ID</th>\n",
       "      <th>Name</th>\n",
       "      <th>Sex</th>\n",
       "      <th>Age</th>\n",
       "      <th>Height</th>\n",
       "      <th>Weight</th>\n",
       "      <th>Team</th>\n",
       "      <th>NOC</th>\n",
       "      <th>Games</th>\n",
       "      <th>Year</th>\n",
       "      <th>Season</th>\n",
       "      <th>City</th>\n",
       "      <th>Sport</th>\n",
       "      <th>Event</th>\n",
       "      <th>Medal</th>\n",
       "      <th>Bronze</th>\n",
       "      <th>Gold</th>\n",
       "      <th>Silver</th>\n",
       "      <th>allmedals</th>\n",
       "      <th>countnum</th>\n",
       "    </tr>\n",
       "  </thead>\n",
       "  <tbody>\n",
       "    <tr>\n",
       "      <th>218235</th>\n",
       "      <td>109611</td>\n",
       "      <td>Antarge Sherpa</td>\n",
       "      <td>M</td>\n",
       "      <td>NaN</td>\n",
       "      <td>NaN</td>\n",
       "      <td>NaN</td>\n",
       "      <td>India</td>\n",
       "      <td>IND</td>\n",
       "      <td>1924 Winter</td>\n",
       "      <td>1924</td>\n",
       "      <td>Winter</td>\n",
       "      <td>Chamonix</td>\n",
       "      <td>Alpinism</td>\n",
       "      <td>Alpinism Mixed Alpinism</td>\n",
       "      <td>Gold</td>\n",
       "      <td>0</td>\n",
       "      <td>1</td>\n",
       "      <td>0</td>\n",
       "      <td>1</td>\n",
       "      <td>1</td>\n",
       "    </tr>\n",
       "    <tr>\n",
       "      <th>218239</th>\n",
       "      <td>109613</td>\n",
       "      <td>Lhakpa Sherpa</td>\n",
       "      <td>M</td>\n",
       "      <td>NaN</td>\n",
       "      <td>NaN</td>\n",
       "      <td>NaN</td>\n",
       "      <td>India</td>\n",
       "      <td>IND</td>\n",
       "      <td>1924 Winter</td>\n",
       "      <td>1924</td>\n",
       "      <td>Winter</td>\n",
       "      <td>Chamonix</td>\n",
       "      <td>Alpinism</td>\n",
       "      <td>Alpinism Mixed Alpinism</td>\n",
       "      <td>Gold</td>\n",
       "      <td>0</td>\n",
       "      <td>1</td>\n",
       "      <td>0</td>\n",
       "      <td>1</td>\n",
       "      <td>1</td>\n",
       "    </tr>\n",
       "    <tr>\n",
       "      <th>218240</th>\n",
       "      <td>109614</td>\n",
       "      <td>Narbu Sherpa</td>\n",
       "      <td>M</td>\n",
       "      <td>NaN</td>\n",
       "      <td>NaN</td>\n",
       "      <td>NaN</td>\n",
       "      <td>India</td>\n",
       "      <td>IND</td>\n",
       "      <td>1924 Winter</td>\n",
       "      <td>1924</td>\n",
       "      <td>Winter</td>\n",
       "      <td>Chamonix</td>\n",
       "      <td>Alpinism</td>\n",
       "      <td>Alpinism Mixed Alpinism</td>\n",
       "      <td>Gold</td>\n",
       "      <td>0</td>\n",
       "      <td>1</td>\n",
       "      <td>0</td>\n",
       "      <td>1</td>\n",
       "      <td>1</td>\n",
       "    </tr>\n",
       "    <tr>\n",
       "      <th>218241</th>\n",
       "      <td>109615</td>\n",
       "      <td>Pasang Sherpa</td>\n",
       "      <td>M</td>\n",
       "      <td>NaN</td>\n",
       "      <td>NaN</td>\n",
       "      <td>NaN</td>\n",
       "      <td>India</td>\n",
       "      <td>IND</td>\n",
       "      <td>1924 Winter</td>\n",
       "      <td>1924</td>\n",
       "      <td>Winter</td>\n",
       "      <td>Chamonix</td>\n",
       "      <td>Alpinism</td>\n",
       "      <td>Alpinism Mixed Alpinism</td>\n",
       "      <td>Gold</td>\n",
       "      <td>0</td>\n",
       "      <td>1</td>\n",
       "      <td>0</td>\n",
       "      <td>1</td>\n",
       "      <td>1</td>\n",
       "    </tr>\n",
       "    <tr>\n",
       "      <th>218242</th>\n",
       "      <td>109616</td>\n",
       "      <td>Pembra Sherpa</td>\n",
       "      <td>M</td>\n",
       "      <td>NaN</td>\n",
       "      <td>NaN</td>\n",
       "      <td>NaN</td>\n",
       "      <td>India</td>\n",
       "      <td>IND</td>\n",
       "      <td>1924 Winter</td>\n",
       "      <td>1924</td>\n",
       "      <td>Winter</td>\n",
       "      <td>Chamonix</td>\n",
       "      <td>Alpinism</td>\n",
       "      <td>Alpinism Mixed Alpinism</td>\n",
       "      <td>Gold</td>\n",
       "      <td>0</td>\n",
       "      <td>1</td>\n",
       "      <td>0</td>\n",
       "      <td>1</td>\n",
       "      <td>1</td>\n",
       "    </tr>\n",
       "    <tr>\n",
       "      <th>218243</th>\n",
       "      <td>109617</td>\n",
       "      <td>Sange Sherpa</td>\n",
       "      <td>M</td>\n",
       "      <td>NaN</td>\n",
       "      <td>NaN</td>\n",
       "      <td>NaN</td>\n",
       "      <td>India</td>\n",
       "      <td>IND</td>\n",
       "      <td>1924 Winter</td>\n",
       "      <td>1924</td>\n",
       "      <td>Winter</td>\n",
       "      <td>Chamonix</td>\n",
       "      <td>Alpinism</td>\n",
       "      <td>Alpinism Mixed Alpinism</td>\n",
       "      <td>Gold</td>\n",
       "      <td>0</td>\n",
       "      <td>1</td>\n",
       "      <td>0</td>\n",
       "      <td>1</td>\n",
       "      <td>1</td>\n",
       "    </tr>\n",
       "    <tr>\n",
       "      <th>218244</th>\n",
       "      <td>109618</td>\n",
       "      <td>Temba Sherpa</td>\n",
       "      <td>M</td>\n",
       "      <td>NaN</td>\n",
       "      <td>NaN</td>\n",
       "      <td>NaN</td>\n",
       "      <td>India</td>\n",
       "      <td>IND</td>\n",
       "      <td>1924 Winter</td>\n",
       "      <td>1924</td>\n",
       "      <td>Winter</td>\n",
       "      <td>Chamonix</td>\n",
       "      <td>Alpinism</td>\n",
       "      <td>Alpinism Mixed Alpinism</td>\n",
       "      <td>Gold</td>\n",
       "      <td>0</td>\n",
       "      <td>1</td>\n",
       "      <td>0</td>\n",
       "      <td>1</td>\n",
       "      <td>1</td>\n",
       "    </tr>\n",
       "  </tbody>\n",
       "</table>\n",
       "</div>"
      ],
      "text/plain": [
       "            ID            Name Sex  Age  Height  Weight   Team  NOC  \\\n",
       "218235  109611  Antarge Sherpa   M  NaN     NaN     NaN  India  IND   \n",
       "218239  109613   Lhakpa Sherpa   M  NaN     NaN     NaN  India  IND   \n",
       "218240  109614    Narbu Sherpa   M  NaN     NaN     NaN  India  IND   \n",
       "218241  109615   Pasang Sherpa   M  NaN     NaN     NaN  India  IND   \n",
       "218242  109616   Pembra Sherpa   M  NaN     NaN     NaN  India  IND   \n",
       "218243  109617    Sange Sherpa   M  NaN     NaN     NaN  India  IND   \n",
       "218244  109618    Temba Sherpa   M  NaN     NaN     NaN  India  IND   \n",
       "\n",
       "              Games  Year  Season      City     Sport  \\\n",
       "218235  1924 Winter  1924  Winter  Chamonix  Alpinism   \n",
       "218239  1924 Winter  1924  Winter  Chamonix  Alpinism   \n",
       "218240  1924 Winter  1924  Winter  Chamonix  Alpinism   \n",
       "218241  1924 Winter  1924  Winter  Chamonix  Alpinism   \n",
       "218242  1924 Winter  1924  Winter  Chamonix  Alpinism   \n",
       "218243  1924 Winter  1924  Winter  Chamonix  Alpinism   \n",
       "218244  1924 Winter  1924  Winter  Chamonix  Alpinism   \n",
       "\n",
       "                          Event Medal  Bronze  Gold  Silver  allmedals  \\\n",
       "218235  Alpinism Mixed Alpinism  Gold       0     1       0          1   \n",
       "218239  Alpinism Mixed Alpinism  Gold       0     1       0          1   \n",
       "218240  Alpinism Mixed Alpinism  Gold       0     1       0          1   \n",
       "218241  Alpinism Mixed Alpinism  Gold       0     1       0          1   \n",
       "218242  Alpinism Mixed Alpinism  Gold       0     1       0          1   \n",
       "218243  Alpinism Mixed Alpinism  Gold       0     1       0          1   \n",
       "218244  Alpinism Mixed Alpinism  Gold       0     1       0          1   \n",
       "\n",
       "        countnum  \n",
       "218235         1  \n",
       "218239         1  \n",
       "218240         1  \n",
       "218241         1  \n",
       "218242         1  \n",
       "218243         1  \n",
       "218244         1  "
      ]
     },
     "execution_count": 370,
     "metadata": {},
     "output_type": "execute_result"
    }
   ],
   "source": [
    "dfindia[(dfindia.Year== 1924) & (dfindia.Gold ==1)]"
   ]
  },
  {
   "cell_type": "markdown",
   "metadata": {},
   "source": [
    "### Whats this mystery, i couldnt even find these players wiki pages.\n",
    "# Okay! Moving forward."
   ]
  },
  {
   "cell_type": "markdown",
   "metadata": {},
   "source": [
    "#### Sports in which India won a Medal."
   ]
  },
  {
   "cell_type": "code",
   "execution_count": 392,
   "metadata": {},
   "outputs": [
    {
     "data": {
      "text/plain": [
       "{'Alpinism',\n",
       " 'Athletics',\n",
       " 'Badminton',\n",
       " 'Boxing',\n",
       " 'Hockey',\n",
       " 'Shooting',\n",
       " 'Tennis',\n",
       " 'Weightlifting',\n",
       " 'Wrestling'}"
      ]
     },
     "execution_count": 392,
     "metadata": {},
     "output_type": "execute_result"
    }
   ],
   "source": [
    "set(dfindia[dfindia.allmedals == 1].Sport.unique())"
   ]
  },
  {
   "cell_type": "markdown",
   "metadata": {},
   "source": [
    "#### Sports in which India won a Gold"
   ]
  },
  {
   "cell_type": "code",
   "execution_count": 372,
   "metadata": {},
   "outputs": [
    {
     "data": {
      "text/plain": [
       "array(['Hockey', 'Shooting', 'Alpinism'], dtype=object)"
      ]
     },
     "execution_count": 372,
     "metadata": {},
     "output_type": "execute_result"
    }
   ],
   "source": [
    "dfindia[dfindia.Gold == 1].Sport.unique()"
   ]
  },
  {
   "cell_type": "markdown",
   "metadata": {},
   "source": [
    "- Rule out Alpinism(as we have questions about that... see above).\n",
    "- Hockey is a group event, rule out\n",
    "- Look at shooting."
   ]
  },
  {
   "cell_type": "code",
   "execution_count": 373,
   "metadata": {},
   "outputs": [
    {
     "data": {
      "text/html": [
       "<div>\n",
       "<style scoped>\n",
       "    .dataframe tbody tr th:only-of-type {\n",
       "        vertical-align: middle;\n",
       "    }\n",
       "\n",
       "    .dataframe tbody tr th {\n",
       "        vertical-align: top;\n",
       "    }\n",
       "\n",
       "    .dataframe thead th {\n",
       "        text-align: right;\n",
       "    }\n",
       "</style>\n",
       "<table border=\"1\" class=\"dataframe\">\n",
       "  <thead>\n",
       "    <tr style=\"text-align: right;\">\n",
       "      <th></th>\n",
       "      <th>ID</th>\n",
       "      <th>Name</th>\n",
       "      <th>Sex</th>\n",
       "      <th>Age</th>\n",
       "      <th>Height</th>\n",
       "      <th>Weight</th>\n",
       "      <th>Team</th>\n",
       "      <th>NOC</th>\n",
       "      <th>Games</th>\n",
       "      <th>Year</th>\n",
       "      <th>Season</th>\n",
       "      <th>City</th>\n",
       "      <th>Sport</th>\n",
       "      <th>Event</th>\n",
       "      <th>Medal</th>\n",
       "      <th>Bronze</th>\n",
       "      <th>Gold</th>\n",
       "      <th>Silver</th>\n",
       "      <th>allmedals</th>\n",
       "      <th>countnum</th>\n",
       "    </tr>\n",
       "  </thead>\n",
       "  <tbody>\n",
       "    <tr>\n",
       "      <th>22004</th>\n",
       "      <td>11601</td>\n",
       "      <td>Abhinav Bindra</td>\n",
       "      <td>M</td>\n",
       "      <td>25.0</td>\n",
       "      <td>173.0</td>\n",
       "      <td>70.0</td>\n",
       "      <td>India</td>\n",
       "      <td>IND</td>\n",
       "      <td>2008 Summer</td>\n",
       "      <td>2008</td>\n",
       "      <td>Summer</td>\n",
       "      <td>Beijing</td>\n",
       "      <td>Shooting</td>\n",
       "      <td>Shooting Men's Air Rifle, 10 metres</td>\n",
       "      <td>Gold</td>\n",
       "      <td>0</td>\n",
       "      <td>1</td>\n",
       "      <td>0</td>\n",
       "      <td>1</td>\n",
       "      <td>1</td>\n",
       "    </tr>\n",
       "  </tbody>\n",
       "</table>\n",
       "</div>"
      ],
      "text/plain": [
       "          ID            Name Sex   Age  Height  Weight   Team  NOC  \\\n",
       "22004  11601  Abhinav Bindra   M  25.0   173.0    70.0  India  IND   \n",
       "\n",
       "             Games  Year  Season     City     Sport  \\\n",
       "22004  2008 Summer  2008  Summer  Beijing  Shooting   \n",
       "\n",
       "                                     Event Medal  Bronze  Gold  Silver  \\\n",
       "22004  Shooting Men's Air Rifle, 10 metres  Gold       0     1       0   \n",
       "\n",
       "       allmedals  countnum  \n",
       "22004          1         1  "
      ]
     },
     "execution_count": 373,
     "metadata": {},
     "output_type": "execute_result"
    }
   ],
   "source": [
    "dfindia[(dfindia.Gold==1) & (dfindia.Sport == 'Shooting')]"
   ]
  },
  {
   "cell_type": "markdown",
   "metadata": {},
   "source": [
    "### So, presenting you Abhinav Bindra, the person who won the first individual Gold for India."
   ]
  },
  {
   "cell_type": "markdown",
   "metadata": {},
   "source": [
    "### Lets see which years India have won the gold in hockey."
   ]
  },
  {
   "cell_type": "code",
   "execution_count": 374,
   "metadata": {},
   "outputs": [
    {
     "data": {
      "text/plain": [
       "array([1928, 1964, 1932, 1936, 1980, 1948, 1952, 1956], dtype=int64)"
      ]
     },
     "execution_count": 374,
     "metadata": {},
     "output_type": "execute_result"
    }
   ],
   "source": [
    "dfindia[(dfindia.Gold==1) & (dfindia.Sport == 'Hockey')]['Year'].unique()"
   ]
  },
  {
   "cell_type": "markdown",
   "metadata": {},
   "source": [
    "## Plotting India's performance over the years."
   ]
  },
  {
   "cell_type": "code",
   "execution_count": 382,
   "metadata": {},
   "outputs": [],
   "source": [
    "dfindyear = dfindia.groupby(['Year','Event'],as_index=False).max()"
   ]
  },
  {
   "cell_type": "code",
   "execution_count": 383,
   "metadata": {},
   "outputs": [],
   "source": [
    "dfindyear = dfindyear.groupby(['Year'],as_index=False).sum()"
   ]
  },
  {
   "cell_type": "code",
   "execution_count": 390,
   "metadata": {},
   "outputs": [
    {
     "data": {
      "image/png": "[encoded data removed]",
      "text/plain": [
       "<matplotlib.figure.Figure at 0x1f940636080>"
      ]
     },
     "metadata": {},
     "output_type": "display_data"
    }
   ],
   "source": [
    "plt.plot(dfindyear.Year,dfindyear.allmedals)\n",
    "plt.plot(dfindyear.Year,dfindyear.allmedals,'bo')\n",
    "plt.yticks(range(0,8))\n",
    "plt.xticks(range(1900,2018,4))\n",
    "plt.show()"
   ]
  },
  {
   "cell_type": "markdown",
   "metadata": {},
   "source": [
    "### Not a great looking graph. 2012 is the best year for INDIA with 6 medals."
   ]
  },
  {
   "cell_type": "markdown",
   "metadata": {},
   "source": [
    "# <font color = 'brown'> END NOTES:"
   ]
  },
  {
   "cell_type": "markdown",
   "metadata": {},
   "source": [
    "- There's a lot more that can be extracted from this data.\n",
    "- I have not higher level visualizations, they look so basic. Need to learn plotly.\n",
    "- 80% of the tasks are done simply using the powerful groupby.\n",
    "- Code once written was never optimized, cuz I'm dont wanna spend a lot of time in this project.\n",
    "- Lastly, Please suggest me the improvizations that can be done and point out mistakes I have done.\n",
    "\n",
    "__THANK YOU__ \n",
    "\n",
    "__SAITEJA NAKKA__"
   ]
  }
 ],
 "metadata": {
  "kernelspec": {
   "display_name": "Python 3",
   "language": "python",
   "name": "python3"
  },
  "language_info": {
   "codemirror_mode": {
    "name": "ipython",
    "version": 3
   },
   "file_extension": ".py",
   "mimetype": "text/x-python",
   "name": "python",
   "nbconvert_exporter": "python",
   "pygments_lexer": "ipython3",
   "version": "3.6.4"
  }
 },
 "nbformat": 4,
 "nbformat_minor": 2
}
